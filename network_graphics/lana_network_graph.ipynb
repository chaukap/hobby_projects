{
 "cells": [
  {
   "cell_type": "markdown",
   "id": "7425a9a4-9e69-4e12-bced-e5871ab2fbeb",
   "metadata": {},
   "source": [
    "# Visualizing an artist's network\n",
    "### Chandler Haukap"
   ]
  },
  {
   "cell_type": "markdown",
   "id": "66449613-d444-4dca-8324-ac89b67a2a3a",
   "metadata": {},
   "source": [
    "Coming into this project I had no experience plotting. [Rebecca Weng's article](https://towardsdatascience.com/tutorial-network-visualization-basics-with-networkx-and-plotly-and-a-little-nlp-57c9bbb55bb9) on creating network graphs was a game changer!"
   ]
  },
  {
   "cell_type": "markdown",
   "id": "e5697c3e-6cfe-4578-9713-2ebdf0e536be",
   "metadata": {},
   "source": [
    "## Import libraries and make sure spotify is working"
   ]
  },
  {
   "cell_type": "code",
   "execution_count": 1,
   "id": "d5757f22-71cb-4935-a3f9-9bdd45c5328e",
   "metadata": {},
   "outputs": [
    {
     "ename": "SpotifyOauthError",
     "evalue": "No client_id. Pass it or set a SPOTIPY_CLIENT_ID environment variable.",
     "output_type": "error",
     "traceback": [
      "\u001b[0;31m---------------------------------------------------------------------------\u001b[0m",
      "\u001b[0;31mSpotifyOauthError\u001b[0m                         Traceback (most recent call last)",
      "\u001b[0;32m/tmp/ipykernel_4763/1856539266.py\u001b[0m in \u001b[0;36m<module>\u001b[0;34m\u001b[0m\n\u001b[1;32m     20\u001b[0m   \u001b[0mredirect_uri\u001b[0m\u001b[0;34m=\u001b[0m\u001b[0mkeys\u001b[0m\u001b[0;34m[\u001b[0m\u001b[0;34m'spotify'\u001b[0m\u001b[0;34m]\u001b[0m\u001b[0;34m[\u001b[0m\u001b[0;34m'redirect_uri'\u001b[0m\u001b[0;34m]\u001b[0m\u001b[0;34m,\u001b[0m\u001b[0;34m\u001b[0m\u001b[0;34m\u001b[0m\u001b[0m\n\u001b[1;32m     21\u001b[0m   \u001b[0mscope\u001b[0m\u001b[0;34m=\u001b[0m\u001b[0mscope\u001b[0m\u001b[0;34m,\u001b[0m\u001b[0;34m\u001b[0m\u001b[0;34m\u001b[0m\u001b[0m\n\u001b[0;32m---> 22\u001b[0;31m   open_browser=False)\n\u001b[0m\u001b[1;32m     23\u001b[0m )\n\u001b[1;32m     24\u001b[0m \u001b[0msp\u001b[0m\u001b[0;34m.\u001b[0m\u001b[0mme\u001b[0m\u001b[0;34m(\u001b[0m\u001b[0;34m)\u001b[0m\u001b[0;34m[\u001b[0m\u001b[0;34m'display_name'\u001b[0m\u001b[0;34m]\u001b[0m\u001b[0;34m\u001b[0m\u001b[0;34m\u001b[0m\u001b[0m\n",
      "\u001b[0;32m/opt/conda/lib/python3.7/site-packages/spotipy/oauth2.py\u001b[0m in \u001b[0;36m__init__\u001b[0;34m(self, client_id, client_secret, redirect_uri, state, scope, cache_path, username, proxies, show_dialog, requests_session, requests_timeout, open_browser, cache_handler)\u001b[0m\n\u001b[1;32m    330\u001b[0m         \u001b[0msuper\u001b[0m\u001b[0;34m(\u001b[0m\u001b[0mSpotifyOAuth\u001b[0m\u001b[0;34m,\u001b[0m \u001b[0mself\u001b[0m\u001b[0;34m)\u001b[0m\u001b[0;34m.\u001b[0m\u001b[0m__init__\u001b[0m\u001b[0;34m(\u001b[0m\u001b[0mrequests_session\u001b[0m\u001b[0;34m)\u001b[0m\u001b[0;34m\u001b[0m\u001b[0;34m\u001b[0m\u001b[0m\n\u001b[1;32m    331\u001b[0m \u001b[0;34m\u001b[0m\u001b[0m\n\u001b[0;32m--> 332\u001b[0;31m         \u001b[0mself\u001b[0m\u001b[0;34m.\u001b[0m\u001b[0mclient_id\u001b[0m \u001b[0;34m=\u001b[0m \u001b[0mclient_id\u001b[0m\u001b[0;34m\u001b[0m\u001b[0;34m\u001b[0m\u001b[0m\n\u001b[0m\u001b[1;32m    333\u001b[0m         \u001b[0mself\u001b[0m\u001b[0;34m.\u001b[0m\u001b[0mclient_secret\u001b[0m \u001b[0;34m=\u001b[0m \u001b[0mclient_secret\u001b[0m\u001b[0;34m\u001b[0m\u001b[0;34m\u001b[0m\u001b[0m\n\u001b[1;32m    334\u001b[0m         \u001b[0mself\u001b[0m\u001b[0;34m.\u001b[0m\u001b[0mredirect_uri\u001b[0m \u001b[0;34m=\u001b[0m \u001b[0mredirect_uri\u001b[0m\u001b[0;34m\u001b[0m\u001b[0;34m\u001b[0m\u001b[0m\n",
      "\u001b[0;32m/opt/conda/lib/python3.7/site-packages/spotipy/oauth2.py\u001b[0m in \u001b[0;36mclient_id\u001b[0;34m(self, val)\u001b[0m\n\u001b[1;32m     92\u001b[0m     \u001b[0;34m@\u001b[0m\u001b[0mclient_id\u001b[0m\u001b[0;34m.\u001b[0m\u001b[0msetter\u001b[0m\u001b[0;34m\u001b[0m\u001b[0;34m\u001b[0m\u001b[0m\n\u001b[1;32m     93\u001b[0m     \u001b[0;32mdef\u001b[0m \u001b[0mclient_id\u001b[0m\u001b[0;34m(\u001b[0m\u001b[0mself\u001b[0m\u001b[0;34m,\u001b[0m \u001b[0mval\u001b[0m\u001b[0;34m)\u001b[0m\u001b[0;34m:\u001b[0m\u001b[0;34m\u001b[0m\u001b[0;34m\u001b[0m\u001b[0m\n\u001b[0;32m---> 94\u001b[0;31m         \u001b[0mself\u001b[0m\u001b[0;34m.\u001b[0m\u001b[0m_client_id\u001b[0m \u001b[0;34m=\u001b[0m \u001b[0m_ensure_value\u001b[0m\u001b[0;34m(\u001b[0m\u001b[0mval\u001b[0m\u001b[0;34m,\u001b[0m \u001b[0;34m\"client_id\"\u001b[0m\u001b[0;34m)\u001b[0m\u001b[0;34m\u001b[0m\u001b[0;34m\u001b[0m\u001b[0m\n\u001b[0m\u001b[1;32m     95\u001b[0m \u001b[0;34m\u001b[0m\u001b[0m\n\u001b[1;32m     96\u001b[0m     \u001b[0;34m@\u001b[0m\u001b[0mproperty\u001b[0m\u001b[0;34m\u001b[0m\u001b[0;34m\u001b[0m\u001b[0m\n",
      "\u001b[0;32m/opt/conda/lib/python3.7/site-packages/spotipy/oauth2.py\u001b[0m in \u001b[0;36m_ensure_value\u001b[0;34m(value, env_key)\u001b[0m\n\u001b[1;32m     68\u001b[0m             \u001b[0menv_val\u001b[0m\u001b[0;34m,\u001b[0m\u001b[0;34m\u001b[0m\u001b[0;34m\u001b[0m\u001b[0m\n\u001b[1;32m     69\u001b[0m         )\n\u001b[0;32m---> 70\u001b[0;31m         \u001b[0;32mraise\u001b[0m \u001b[0mSpotifyOauthError\u001b[0m\u001b[0;34m(\u001b[0m\u001b[0mmsg\u001b[0m\u001b[0;34m)\u001b[0m\u001b[0;34m\u001b[0m\u001b[0;34m\u001b[0m\u001b[0m\n\u001b[0m\u001b[1;32m     71\u001b[0m     \u001b[0;32mreturn\u001b[0m \u001b[0m_val\u001b[0m\u001b[0;34m\u001b[0m\u001b[0;34m\u001b[0m\u001b[0m\n\u001b[1;32m     72\u001b[0m \u001b[0;34m\u001b[0m\u001b[0m\n",
      "\u001b[0;31mSpotifyOauthError\u001b[0m: No client_id. Pass it or set a SPOTIPY_CLIENT_ID environment variable."
     ]
    }
   ],
   "source": [
    "import pandas as pd\n",
    "import spotipy\n",
    "import numpy as np\n",
    "from spotipy.oauth2 import SpotifyOAuth\n",
    "import networkx as nx\n",
    "import matplotlib.pyplot as plt\n",
    "import plotly.offline as py\n",
    "import plotly.graph_objects as go\n",
    "import json\n",
    "\n",
    "%matplotlib inline\n",
    "\n",
    "with open('../keys.json') as json_file:\n",
    "    keys = json.load(json_file)\n",
    "    \n",
    "scope = \"user-read-recently-played user-read-private user-read-email user-library-read user-library-modify playlist-modify-public\"\n",
    "sp = spotipy.Spotify(\n",
    "  auth_manager=SpotifyOAuth(client_id=keys['spotify']['client_id'],\n",
    "  client_secret=keys['spotify']['secret'],\n",
    "  redirect_uri=keys['spotify']['redirect_uri'],\n",
    "  scope=scope,\n",
    "  open_browser=False)\n",
    ")\n",
    "sp.me()['display_name']"
   ]
  },
  {
   "cell_type": "markdown",
   "id": "2ae62aa6-c8d9-441b-8138-0bc201d5f457",
   "metadata": {},
   "source": [
    "### Lets pick an artist that has a few collaborations, but not too many.\n",
    "But, lets be real, I was picking Lana Del Rey either way ;)"
   ]
  },
  {
   "cell_type": "code",
   "execution_count": 2,
   "id": "6f8f2dab-92b4-42fa-af06-ac9a05d317de",
   "metadata": {},
   "outputs": [
    {
     "data": {
      "text/plain": [
       "{'external_urls': {'spotify': 'https://open.spotify.com/artist/00FQb4jTyendYWaN8pK0wa'},\n",
       " 'followers': {'href': None, 'total': 14717428},\n",
       " 'genres': ['art pop', 'pop'],\n",
       " 'href': 'https://api.spotify.com/v1/artists/00FQb4jTyendYWaN8pK0wa',\n",
       " 'id': '00FQb4jTyendYWaN8pK0wa',\n",
       " 'images': [{'height': 640,\n",
       "   'url': 'https://i.scdn.co/image/ab6761610000e5ebc5903678d3db18e271e42be0',\n",
       "   'width': 640},\n",
       "  {'height': 320,\n",
       "   'url': 'https://i.scdn.co/image/ab67616100005174c5903678d3db18e271e42be0',\n",
       "   'width': 320},\n",
       "  {'height': 160,\n",
       "   'url': 'https://i.scdn.co/image/ab6761610000f178c5903678d3db18e271e42be0',\n",
       "   'width': 160}],\n",
       " 'name': 'Lana Del Rey',\n",
       " 'popularity': 87,\n",
       " 'type': 'artist',\n",
       " 'uri': 'spotify:artist:00FQb4jTyendYWaN8pK0wa'}"
      ]
     },
     "execution_count": 2,
     "metadata": {},
     "output_type": "execute_result"
    }
   ],
   "source": [
    "sp.search(q='artist:Lana Del Rey', type='artist')['artists']['items'][0]"
   ]
  },
  {
   "cell_type": "markdown",
   "id": "e178e2cd-01ef-4231-af64-452fc0e01a43",
   "metadata": {},
   "source": [
    "### Now we have an id for Lana. With that, we can view all of her albums"
   ]
  },
  {
   "cell_type": "code",
   "execution_count": 78,
   "id": "d592813b-70ae-4f32-b1b9-48ee8bb259c4",
   "metadata": {},
   "outputs": [
    {
     "name": "stdout",
     "output_type": "stream",
     "text": [
      "Blue Banisters\n",
      "Chemtrails Over The Country Club\n",
      "Norman Fucking Rockwell!\n",
      "Lust For Life\n",
      "Lust For Life\n",
      "Lust For Life\n",
      "Honeymoon\n",
      "Honeymoon\n",
      "Honeymoon\n",
      "Ultraviolence\n",
      "Ultraviolence (Deluxe)\n",
      "Ultraviolence\n",
      "Ultraviolence (Deluxe)\n",
      "Ultraviolence\n",
      "Ultraviolence\n",
      "Ultraviolence\n",
      "Ultraviolence (Deluxe)\n",
      "Ultraviolence\n",
      "Ultraviolence - Audio Commentary\n",
      "Born To Die - The Paradise Edition\n"
     ]
    }
   ],
   "source": [
    "albums = sp.artist_albums('00FQb4jTyendYWaN8pK0wa')['items']\n",
    "album_ids = []\n",
    "for album in albums:\n",
    "    print(album['name'])\n",
    "    album_ids.append(album['id'])"
   ]
  },
  {
   "cell_type": "markdown",
   "id": "8aee5dbb-3615-4cb6-b9ec-7457a5b78c68",
   "metadata": {},
   "source": [
    "### With the album ids available, we can iterate across them and pull all of the tracks."
   ]
  },
  {
   "cell_type": "code",
   "execution_count": 79,
   "id": "684fe1bd-f9fd-4481-9d9c-9354305c9dc8",
   "metadata": {},
   "outputs": [],
   "source": [
    "all_tracks = []\n",
    "for album in albums:\n",
    "    all_tracks += sp.album_tracks(album['id'])['items']"
   ]
  },
  {
   "cell_type": "markdown",
   "id": "7f7ea4be-df71-472f-a9a4-3504baa51e22",
   "metadata": {},
   "source": [
    "### And finally, we can view all of the artists on the track. The first artist will be Lana of course, and the rest are her collaborators."
   ]
  },
  {
   "cell_type": "code",
   "execution_count": 80,
   "id": "21c3872c-3461-468f-b2ba-9512d9acdce8",
   "metadata": {},
   "outputs": [
    {
     "name": "stdout",
     "output_type": "stream",
     "text": [
      "Nikki Lane\n",
      "Zella Day\n",
      "The Weeknd\n",
      "A$AP Rocky\n",
      "A$AP Rocky\n",
      "Stevie Nicks\n",
      "Sean Ono Lennon\n",
      "The Weeknd\n",
      "A$AP Rocky\n",
      "A$AP Rocky\n",
      "Stevie Nicks\n",
      "Sean Ono Lennon\n",
      "The Weeknd\n",
      "A$AP Rocky\n",
      "A$AP Rocky\n",
      "Stevie Nicks\n",
      "Sean Ono Lennon\n",
      "Photek\n"
     ]
    }
   ],
   "source": [
    "for track in all_tracks:\n",
    "    if len(track['artists']) > 1:\n",
    "        print(track['artists'][1]['name'])"
   ]
  },
  {
   "cell_type": "markdown",
   "id": "ede247ad-2c57-44c1-91ab-ae1510356b59",
   "metadata": {},
   "source": [
    "### Now that we have a proof of concept I'll wrap all of those loops into a single function."
   ]
  },
  {
   "cell_type": "code",
   "execution_count": 3,
   "id": "1cb0c5d9-1624-485d-a1a1-3e6256eb28ce",
   "metadata": {},
   "outputs": [],
   "source": [
    "def get_related_artists(artist_ids):\n",
    "    artists = []\n",
    "    for artist_id in artist_ids:\n",
    "        artist = sp.artist(artist_id)\n",
    "        all_tracks = []\n",
    "        for album in sp.artist_albums(artist_id)['items']:\n",
    "            all_tracks += sp.album_tracks(album['id'])['items']\n",
    "\n",
    "        for track in all_tracks:\n",
    "            for i in range(0, len(track['artists'])):\n",
    "                if track['artists'][i]['id'] != artist['id']:\n",
    "                    artists.append([\n",
    "                        artist['name'], \n",
    "                        artist['id'], \n",
    "                        track['artists'][i]['name'], \n",
    "                        track['artists'][i]['id'],\n",
    "                        track['name'],\n",
    "                        track['id']\n",
    "                    ])\n",
    "                    \n",
    "    return artists"
   ]
  },
  {
   "cell_type": "markdown",
   "id": "cb829a19-6bf2-46c5-90a6-ff3a234b3a0c",
   "metadata": {},
   "source": [
    "### That's fairly complicated. Lets make sure it works."
   ]
  },
  {
   "cell_type": "code",
   "execution_count": 4,
   "id": "ed021582-8026-4203-ba4f-9a28354b536c",
   "metadata": {},
   "outputs": [
    {
     "name": "stdout",
     "output_type": "stream",
     "text": [
      "Lana Del Rey->Nikki Lane\n",
      "Lana Del Rey->Zella Day\n",
      "Lana Del Rey->Weyes Blood\n",
      "Lana Del Rey->The Weeknd\n",
      "Lana Del Rey->A$AP Rocky\n",
      "Lana Del Rey->Playboi Carti\n",
      "Lana Del Rey->A$AP Rocky\n",
      "Lana Del Rey->Stevie Nicks\n",
      "Lana Del Rey->Sean Ono Lennon\n",
      "Lana Del Rey->The Weeknd\n",
      "Lana Del Rey->A$AP Rocky\n",
      "Lana Del Rey->Playboi Carti\n",
      "Lana Del Rey->A$AP Rocky\n",
      "Lana Del Rey->Stevie Nicks\n",
      "Lana Del Rey->Sean Ono Lennon\n",
      "Lana Del Rey->The Weeknd\n",
      "Lana Del Rey->A$AP Rocky\n",
      "Lana Del Rey->Playboi Carti\n",
      "Lana Del Rey->A$AP Rocky\n",
      "Lana Del Rey->Stevie Nicks\n",
      "Lana Del Rey->Sean Ono Lennon\n",
      "Lana Del Rey->Photek\n"
     ]
    }
   ],
   "source": [
    "artists = get_related_artists(['00FQb4jTyendYWaN8pK0wa'])\n",
    "for artist in artists:\n",
    "    print(f\"{artist[0]}->{artist[2]}\")"
   ]
  },
  {
   "cell_type": "markdown",
   "id": "a2d37837-2345-40b6-b07e-d741bac68fd4",
   "metadata": {},
   "source": [
    "### Looks good! However, this isn't much of a network. What about Lana's connections' connections? \n",
    "Here I have a choice. The cleanest code would be a recursive function that builds the network. However, recursion is slow. Stacking functions on top of functions puts a lot of strain on the python interpreter. On top of that, what if two branches of recursion contain the same artist? We could potentially duplicate a ton of work. Instead, lets write a dynamic program that does what we want."
   ]
  },
  {
   "cell_type": "code",
   "execution_count": 4,
   "id": "e24c2700-6ff8-4d37-89dc-4855e9f1b976",
   "metadata": {},
   "outputs": [],
   "source": [
    "def get_network(size, root_artist_id):\n",
    "    network = get_related_artists([root_artist_id])\n",
    "    next_index = 1\n",
    "    last_index = 0\n",
    "    \n",
    "    for i in range(0, size-1):\n",
    "        next_index = len(network)\n",
    "        network += get_related_artists(np.unique(np.array([a[3] for a in network[last_index:]])))\n",
    "        last_index = next_index\n",
    "\n",
    "    return network"
   ]
  },
  {
   "cell_type": "markdown",
   "id": "c6966a0b-8ed6-460b-be65-70010c744691",
   "metadata": {},
   "source": [
    "### And we'll test it out!"
   ]
  },
  {
   "cell_type": "code",
   "execution_count": 117,
   "id": "bd826f7b-d26e-4a20-a092-6f9c6abfadda",
   "metadata": {},
   "outputs": [
    {
     "name": "stdout",
     "output_type": "stream",
     "text": [
      "74521\n"
     ]
    }
   ],
   "source": [
    "result = get_network(3, '00FQb4jTyendYWaN8pK0wa')\n",
    "print(len(result))"
   ]
  },
  {
   "cell_type": "markdown",
   "id": "81513919-a747-431c-ac2c-94eeba5e8d03",
   "metadata": {},
   "source": [
    "74,521 entries. That's waaay more than I expected. But, I bet there are some duplicates. I know for a fact that most music labels put out multiple versions of an album. Also, I know that the function I wrote doesn't account for two artists connecting on multiple songs. \n",
    "\n",
    "Therefore, we'll need to clean the data to see how many connections are actually present!"
   ]
  },
  {
   "cell_type": "code",
   "execution_count": 118,
   "id": "b38ca493-5e2a-442e-9401-d16cfc2c1288",
   "metadata": {},
   "outputs": [],
   "source": [
    "df = pd.DataFrame(result)\n",
    "df.columns = [\n",
    "    'primary_artist',\n",
    "    'primary_artist_id',\n",
    "    'featured_artist',\n",
    "    'featured_artist_id',\n",
    "    'track',\n",
    "    'track_id'\n",
    "]\n",
    "df['unique_id'] = df.apply(lambda t: t.primary_artist_id + t.featured_artist_id, axis=1)\n",
    "df['track'] = df.groupby('unique_id').track.transform(lambda q: \"|\".join(np.unique(np.array(q))))\n",
    "df['track_id'] = df.groupby('unique_id').track_id.transform(lambda q: \"|\".join(np.unique(np.array(q))))"
   ]
  },
  {
   "cell_type": "code",
   "execution_count": 119,
   "id": "d0bd155b-3c1f-4c83-bf5e-5c8850bbe9e8",
   "metadata": {},
   "outputs": [
    {
     "name": "stdout",
     "output_type": "stream",
     "text": [
      "(24776, 7)\n"
     ]
    }
   ],
   "source": [
    "print(df.drop_duplicates(['unique_id']).shape)\n",
    "df.drop_duplicates(['unique_id']).to_csv(\"lana_3.csv\", index=False)"
   ]
  },
  {
   "cell_type": "markdown",
   "id": "8ceac9cc-29fc-40ac-a781-7d2e57c5173c",
   "metadata": {},
   "source": [
    "The first thing I did was convert the results into a Pandas DataFrame. Pandas gives me the ability to group entries and perform transformations on the groups. However, I need a column unique to each connection before I can create groups. \n",
    "\n",
    "That's why I start by combining the two artist ids. We only need one entry per combination, so we can remove the rest.\n",
    "\n",
    "But, I wanted to do something fancier to handle the tracks. In order to retain all of the information I performed a transformation on the grouped tracks to join them using a \"|\" symbol. This will retain all of the information for artist combinations that collaborated on more than one song.\n",
    "\n",
    "And finally, I removed duplicates with the `drop_duplicates` function. I saved the results to a CSV so I don't have to rerun all of those Spotify API calls."
   ]
  },
  {
   "cell_type": "markdown",
   "id": "d5978deb-0a25-4885-94e2-cba359855e3f",
   "metadata": {},
   "source": [
    "### Anyways, we're down to 24,776 entries!\n",
    "\n",
    "And I also ran the function for depths of 1 and 2 off-screen (off-notebook)? Now, I'll load them all back in so we can see how the network grows."
   ]
  },
  {
   "cell_type": "code",
   "execution_count": 5,
   "id": "7b585390-0f58-4689-ab00-feba3d20c2fd",
   "metadata": {},
   "outputs": [
    {
     "name": "stdout",
     "output_type": "stream",
     "text": [
      "(9, 7)\n",
      "(487, 7)\n",
      "(24776, 7)\n"
     ]
    }
   ],
   "source": [
    "depth_1 = pd.read_csv('lana_1.csv')\n",
    "depth_2 = pd.read_csv('lana_2.csv')\n",
    "depth_3 = pd.read_csv('lana_3.csv')\n",
    "\n",
    "print(depth_1.shape)\n",
    "print(depth_2.shape)\n",
    "print(depth_3.shape)"
   ]
  },
  {
   "cell_type": "markdown",
   "id": "87bbc884-b751-4178-93c0-bfcf9b08957e",
   "metadata": {},
   "source": [
    "Here are the number of connections, but what about the number of nodes?"
   ]
  },
  {
   "cell_type": "code",
   "execution_count": 6,
   "id": "541e5a59-711d-4cf6-9d46-79667d4a3f04",
   "metadata": {},
   "outputs": [
    {
     "name": "stdout",
     "output_type": "stream",
     "text": [
      "(9,)\n",
      "(446,)\n",
      "(10720,)\n"
     ]
    }
   ],
   "source": [
    "print(depth_1.featured_artist.unique().shape)\n",
    "print(depth_2.featured_artist.unique().shape)\n",
    "print(depth_3.featured_artist.unique().shape)"
   ]
  },
  {
   "cell_type": "markdown",
   "id": "27746c1c-7033-45f5-804c-a43a258f81dd",
   "metadata": {},
   "source": [
    "10,720 unique artists, a.k.a. nodes."
   ]
  },
  {
   "cell_type": "markdown",
   "id": "e1c746e4-d73a-44ba-87a8-1723f26f435b",
   "metadata": {},
   "source": [
    "### A little more information\n",
    "\n",
    "I want to make some cool visualizations. Right now, I have the nodes and edges for some graph visualizations, but I would like to add a few more dimensions. Here's my plan:\n",
    "\n",
    "* Depth: The closeness to Lana. I want to express this in the visualization as the size of the nodes.\n",
    "* Connections: The number of songs they have together: I want to express this as line (edge) thickness.\n",
    "\n",
    "Luckily, we can derive this information from what we already have!"
   ]
  },
  {
   "cell_type": "code",
   "execution_count": 7,
   "id": "80b77bcd-4f56-45cc-aabc-875bc2bfe430",
   "metadata": {},
   "outputs": [
    {
     "name": "stderr",
     "output_type": "stream",
     "text": [
      "/opt/conda/lib/python3.7/site-packages/ipykernel_launcher.py:4: SettingWithCopyWarning:\n",
      "\n",
      "\n",
      "A value is trying to be set on a copy of a slice from a DataFrame\n",
      "\n",
      "See the caveats in the documentation: https://pandas.pydata.org/pandas-docs/stable/user_guide/indexing.html#returning-a-view-versus-a-copy\n",
      "\n",
      "/opt/conda/lib/python3.7/site-packages/ipykernel_launcher.py:7: SettingWithCopyWarning:\n",
      "\n",
      "\n",
      "A value is trying to be set on a copy of a slice from a DataFrame\n",
      "\n",
      "See the caveats in the documentation: https://pandas.pydata.org/pandas-docs/stable/user_guide/indexing.html#returning-a-view-versus-a-copy\n",
      "\n",
      "/opt/conda/lib/python3.7/site-packages/ipykernel_launcher.py:8: SettingWithCopyWarning:\n",
      "\n",
      "\n",
      "A value is trying to be set on a copy of a slice from a DataFrame\n",
      "\n",
      "See the caveats in the documentation: https://pandas.pydata.org/pandas-docs/stable/user_guide/indexing.html#returning-a-view-versus-a-copy\n",
      "\n"
     ]
    }
   ],
   "source": [
    "depth_1['depth'] = 1\n",
    "\n",
    "depth_2['depth'] = 2\n",
    "depth_2['depth'][depth_1.index.values]  = 1\n",
    "\n",
    "depth_3['depth'] = 3\n",
    "depth_3['depth'][depth_2.index.values] = 2\n",
    "depth_3['depth'][depth_1.index.values] = 1"
   ]
  },
  {
   "cell_type": "markdown",
   "id": "cc840a5b-e127-4c43-ad1a-0e100e3513f6",
   "metadata": {},
   "source": [
    "I'm cheating here. I'm using the fact that depth_1, depth_2 and depth_3 have the same structure to avoid doing any math to calculate the depth. Ignore the Pandas warnings. What I don't understand can't hurt me, right?"
   ]
  },
  {
   "cell_type": "code",
   "execution_count": 8,
   "id": "14f6d121-ea57-4c38-aeb9-65ad5c797163",
   "metadata": {},
   "outputs": [
    {
     "data": {
      "text/plain": [
       "count    24776.000000\n",
       "mean         1.990111\n",
       "std          4.291406\n",
       "min          1.000000\n",
       "25%          1.000000\n",
       "50%          1.000000\n",
       "75%          2.000000\n",
       "max        132.000000\n",
       "Name: songs, dtype: float64"
      ]
     },
     "execution_count": 8,
     "metadata": {},
     "output_type": "execute_result"
    }
   ],
   "source": [
    "depth_1['songs'] = depth_1.track.map(lambda t: len(t.split(\"|\")))\n",
    "depth_2['songs'] = depth_2.track.map(lambda t: len(t.split(\"|\")))\n",
    "depth_3['songs'] = depth_3.track.map(lambda t: len(t.split(\"|\")))\n",
    "depth_3.songs.describe()"
   ]
  },
  {
   "cell_type": "markdown",
   "id": "e5fcaffa-d8f8-47f3-ad77-701edab6d19b",
   "metadata": {},
   "source": [
    "132... that's a lot of songs. I might investigate that later, but for now I'm pushing forward with the visualization."
   ]
  },
  {
   "cell_type": "markdown",
   "id": "3124e37a-94d5-4b97-a592-7f43712e5b44",
   "metadata": {},
   "source": [
    "### Now the fun part- lets visualize the graph!"
   ]
  },
  {
   "cell_type": "markdown",
   "id": "ff151119-93d9-4ff5-b6d5-ff6da8826c6e",
   "metadata": {},
   "source": [
    "First, I ran into a problem with names like 'Joey Bada$$'. The HTML that I plan on generating needs the html code for '$'"
   ]
  },
  {
   "cell_type": "code",
   "execution_count": 9,
   "id": "543a6025-aca8-4024-ac0d-e331d9ef36df",
   "metadata": {},
   "outputs": [],
   "source": [
    "def remove_invalid_characters(text):\n",
    "    return text.replace(\"$\", \"&#36;\")"
   ]
  },
  {
   "cell_type": "code",
   "execution_count": 91,
   "id": "dc876efd-f612-4626-b9e8-2cb260cfab49",
   "metadata": {},
   "outputs": [],
   "source": [
    "graph = nx.Graph()"
   ]
  },
  {
   "cell_type": "markdown",
   "id": "01f5c384-d7ba-44be-a92a-009af90c66c3",
   "metadata": {},
   "source": [
    "Adding the nodes and edges"
   ]
  },
  {
   "cell_type": "code",
   "execution_count": 98,
   "id": "7d3420a5-dd64-4344-8f3c-6e601d0b4b8e",
   "metadata": {},
   "outputs": [],
   "source": [
    "_ = depth_3.apply(lambda e: graph.add_node(remove_invalid_characters(e.featured_artist), depth=e.depth), \n",
    "                  axis=1)\n",
    "_ = depth_3.apply(lambda y: graph.add_edge(remove_invalid_characters(y.primary_artist),\n",
    "                                      remove_invalid_characters(y.featured_artist), depth=y.depth, songs=y.songs), \n",
    "             axis=1)"
   ]
  },
  {
   "cell_type": "code",
   "execution_count": 99,
   "id": "fe44435c-d2aa-4874-aa30-c9748b0fc3c7",
   "metadata": {},
   "outputs": [
    {
     "data": {
      "text/plain": [
       "array([-0.25491618,  0.06704516])"
      ]
     },
     "execution_count": 99,
     "metadata": {},
     "output_type": "execute_result"
    }
   ],
   "source": [
    "node_positions = nx.spring_layout(graph, scale=2)\n",
    "node_positions['Lana Del Rey']"
   ]
  },
  {
   "cell_type": "code",
   "execution_count": 100,
   "id": "2127db91-e234-43ed-a6a0-704ac1c0a441",
   "metadata": {},
   "outputs": [],
   "source": [
    "def make_edge(x, y, text, width):\n",
    "    return  go.Scatter(x = x,\n",
    "                       y = y,\n",
    "                       line = dict(width = width,\n",
    "                                   color = 'rgba(15, 237, 255, 1)'),\n",
    "                       hoverinfo = 'text',\n",
    "                       text = ([text]),\n",
    "                       mode = 'lines')"
   ]
  },
  {
   "cell_type": "code",
   "execution_count": 101,
   "id": "4f061bb3-99fc-418d-b8fc-d0eeee860de6",
   "metadata": {},
   "outputs": [],
   "source": [
    "edge_trace = []\n",
    "for edge in graph.edges():\n",
    "    char_1 = edge[0]\n",
    "    char_2 = edge[1]\n",
    "\n",
    "    x0, y0 = node_positions[char_1]\n",
    "    x1, y1 = node_positions[char_2]\n",
    "\n",
    "    text   = char_1 + '--' + char_2 + ': ' + '1'\n",
    "    \n",
    "    trace  = make_edge([x0, x1, None], [y0, y1, None], text, 2)\n",
    "\n",
    "    edge_trace.append(trace)"
   ]
  },
  {
   "cell_type": "code",
   "execution_count": 102,
   "id": "73ec6cbc-5fe7-4816-805d-1af589168805",
   "metadata": {},
   "outputs": [],
   "source": [
    "node_trace = go.Scatter(x = [],\n",
    "                        y = [],\n",
    "                        text = [],\n",
    "                        textposition = \"top center\",\n",
    "                        textfont_size = 10,\n",
    "                        mode = 'markers+text',\n",
    "                        hoverinfo = 'none',\n",
    "                        marker = dict(color = [],\n",
    "                                      size  = [],\n",
    "                                      line  = None),\n",
    "                        textfont = dict(family= \"sans serif\",\n",
    "                                        size  = 18,\n",
    "                                        color = \"Black\")\n",
    "                       )\n",
    "\n",
    "for node, artist in depth_1.apply(lambda t: (remove_invalid_characters(t.featured_artist), t.primary_artist), axis=1):\n",
    "    x, y = node_positions[node]\n",
    "    node_trace['x'] += tuple([x])\n",
    "    node_trace['y'] += tuple([y])\n",
    "    if node == 'Lana Del Rey':\n",
    "        node_trace['marker']['color'] += tuple(['red'])\n",
    "        node_trace['marker']['size'] += tuple([40])\n",
    "    else:\n",
    "        node_trace['marker']['color'] += tuple(['white'])\n",
    "        node_trace['marker']['size'] += tuple([-(graph[node][artist]['depth'] - 3) * 10])\n",
    "    node_trace['text'] += tuple(['<b>' + node + '</b>'])"
   ]
  },
  {
   "cell_type": "code",
   "execution_count": 103,
   "id": "de35dfe4-47b5-4e58-b4cf-a02ddc273308",
   "metadata": {},
   "outputs": [
    {
     "data": {
      "text/plain": [
       "'lana_2_spring_growth.html'"
      ]
     },
     "execution_count": 103,
     "metadata": {},
     "output_type": "execute_result"
    }
   ],
   "source": [
    "layout = go.Layout(\n",
    "    paper_bgcolor='rgba(73,73,73,1)',\n",
    "    plot_bgcolor='rgba(0,100,0,0)',\n",
    "    height=1080,\n",
    "    width=1080\n",
    ")\n",
    "fig = go.Figure(layout = layout)\n",
    "\n",
    "for trace in edge_trace:\n",
    "    fig.add_trace(trace)\n",
    "\n",
    "fig.add_trace(node_trace)\n",
    "\n",
    "fig.update_layout(showlegend = False)\n",
    "fig.update_xaxes(showticklabels = False, showgrid=False, zeroline=False)\n",
    "fig.update_yaxes(showticklabels = False, showgrid=False, zeroline=False)\n",
    "\n",
    "#fig.show()\n",
    "py.plot(fig, filename='lana_2_spring_growth.html')"
   ]
  },
  {
   "cell_type": "markdown",
   "id": "91df235a-0d11-4eb4-9d1b-83507aa0aafc",
   "metadata": {},
   "source": [
    "Notice that I commented out fig.show(). That's for good reason. The HTML file is insanely large. So large, in fact, that it's virtually unreadable. Instead, I ran though this process again and used a depth of 3. With a depth of 3 we got 6,345 connections which is still gigantic but more reasonable. I'll pulish that on my [hobby website](https://reflectify.io/lanadelrey) so you can take a look!"
   ]
  },
  {
   "cell_type": "markdown",
   "id": "ec3934ff-564b-4352-bd95-9952527cc147",
   "metadata": {},
   "source": [
    "### Since the depth 4 graph is so difficult to read, let's instead come up with some metrics.\n",
    "\n",
    "I've run the get_network function with a depth of 1, 2, 3, and 4 why don't we see how the connection count is growing?"
   ]
  },
  {
   "cell_type": "code",
   "execution_count": 46,
   "id": "c64ba10f-974a-4725-95a3-79e52204851e",
   "metadata": {},
   "outputs": [],
   "source": [
    "df_1 = pd.read_csv(\"Lana_depth_1.csv\")\n",
    "df_2 = pd.read_csv(\"Lana_depth_2.csv\")\n",
    "df_3 = pd.read_csv(\"Lana_depth_3.csv\")\n",
    "df_4 = pd.read_csv(\"Lana_depth_4.csv\")"
   ]
  },
  {
   "cell_type": "code",
   "execution_count": 92,
   "id": "1c3db2f6-b84c-405f-8950-8e04073d01dd",
   "metadata": {},
   "outputs": [],
   "source": [
    "graph_1 = nx.Graph()\n",
    "_ = [graph_1.add_node(remove_invalid_characters(t)) for t in df_1['2'].unique()]\n",
    "_ = df_1.apply(lambda y: graph_1.add_edge(remove_invalid_characters(y['0']),\n",
    "                                        remove_invalid_characters(y['2'])), \n",
    "             axis=1)"
   ]
  },
  {
   "cell_type": "code",
   "execution_count": 93,
   "id": "d6d64332-8022-4494-ad63-3ab03e7faa60",
   "metadata": {},
   "outputs": [],
   "source": [
    "graph_2 = nx.Graph()\n",
    "_ = [graph_2.add_node(remove_invalid_characters(t)) for t in df_2['2'].unique()]\n",
    "_ = df_2.apply(lambda y: graph_2.add_edge(remove_invalid_characters(y['0']),\n",
    "                                        remove_invalid_characters(y['2'])), \n",
    "             axis=1)"
   ]
  },
  {
   "cell_type": "code",
   "execution_count": 94,
   "id": "d099a708-797a-4d8a-9a0f-387ce5e3ec0e",
   "metadata": {},
   "outputs": [],
   "source": [
    "graph_3 = nx.Graph()\n",
    "_ = [graph_3.add_node(remove_invalid_characters(t)) for t in df_3['2'].unique()]\n",
    "_ = df_3.apply(lambda y: graph_3.add_edge(remove_invalid_characters(y['0']),\n",
    "                                        remove_invalid_characters(y['2'])), \n",
    "             axis=1)"
   ]
  },
  {
   "cell_type": "code",
   "execution_count": 95,
   "id": "78a6011d-9d4c-4f06-9062-591ed255d058",
   "metadata": {},
   "outputs": [],
   "source": [
    "graph_4 = nx.Graph()\n",
    "_ = [graph_4.add_node(remove_invalid_characters(t)) for t in df_4['2'].unique()]\n",
    "_ = df_4.apply(lambda y: graph_4.add_edge(remove_invalid_characters(y['0']),\n",
    "                                        remove_invalid_characters(y['2'])), \n",
    "             axis=1)"
   ]
  },
  {
   "cell_type": "code",
   "execution_count": 97,
   "id": "95b8d3bf-1418-4762-b5a3-18efd84caa94",
   "metadata": {},
   "outputs": [],
   "source": [
    "connections = pd.DataFrame([len(graph_1.edges()), \n",
    "                            len(graph_2.edges()), \n",
    "                            len(graph_3.edges), \n",
    "                            len(graph_4.edges)])\n",
    "people = pd.DataFrame([len(graph_1.nodes),\n",
    "                       len(graph_2.nodes), \n",
    "                       len(graph_3.nodes), \n",
    "                       len(graph_4.nodes)])\n",
    "depth = [1,2,3,4]"
   ]
  },
  {
   "cell_type": "code",
   "execution_count": 98,
   "id": "1ceddd9c-490a-41a0-8d42-702a2471dba9",
   "metadata": {},
   "outputs": [
    {
     "data": {
      "text/plain": [
       "[<matplotlib.lines.Line2D at 0x7f19c96f7510>,\n",
       " <matplotlib.lines.Line2D at 0x7f19c96f7f50>]"
      ]
     },
     "execution_count": 98,
     "metadata": {},
     "output_type": "execute_result"
    },
    {
     "data": {
      "image/png": "[encoded data removed]",
      "text/plain": [
       "<Figure size 432x288 with 1 Axes>"
      ]
     },
     "metadata": {
      "needs_background": "light"
     },
     "output_type": "display_data"
    }
   ],
   "source": [
    "plt.plot(depth, people.values, 'r', depth, connections.values, 'b')\n",
    "\n",
    "\n",
    "fig, ax = plt.subplots(nrows=1, ncols=1)\n",
    "ax.bar(buckets.unique(), buckets[df.cat == 1].value_counts()[buckets.unique()], color='white')\n",
    "ax.set_title(\"Pawpularity distribution for cats\", color='white')\n",
    "ax.set_xlabel(\"Pawpularity / 10\")\n",
    "ax.set_ylabel(\"Count\")\n",
    "ax.set_facecolor('#6504b5')\n",
    "fig.patch.set_facecolor('#6504b5')\n",
    "ax.spines['bottom'].set_color((.1, 0, 0, 0))\n",
    "ax.spines['top'].set_color((.1, 0, 0, 0))\n",
    "ax.spines['left'].set_color((.1, 0, 0, 0))\n",
    "ax.spines['right'].set_color((.1, 0, 0, 0))\n",
    "ax.xaxis.label.set_color('white')\n",
    "ax.yaxis.label.set_color('white')\n",
    "ax.tick_params(axis='x', colors='white')\n",
    "ax.tick_params(axis='y', colors='white')\n",
    "fig.savefig('cat_dist.png')\n",
    "plt.show()"
   ]
  },
  {
   "cell_type": "markdown",
   "id": "9b532d75-099a-46f9-b5a4-8c67fcc2caae",
   "metadata": {},
   "source": [
    "The number of connections seems to grow slightly faster than the number of people. This makes sense, because people added at new layers may have more than one connection. Also, I'm only looking at songs by the given artist featuring the connected artist and not the other way around. Therefore, it is possible that I could add an artist at depth 4 who has a song featuring Lana Del Rey. The connection wouldn't be present for depth=3, but it would appear for depth=4. This becomes clear if we look at Lana Del Rey's connection count at each depth."
   ]
  },
  {
   "cell_type": "code",
   "execution_count": 107,
   "id": "e09bf16a-8528-448f-ac57-5c01a9a9e30f",
   "metadata": {},
   "outputs": [
    {
     "name": "stdout",
     "output_type": "stream",
     "text": [
      "9\n",
      "10\n",
      "11\n",
      "12\n",
      "{'Nikki Lane': {}, 'Zella Day': {}, 'Weyes Blood': {}, 'The Weeknd': {}, 'ASAP Rocky': {}, 'Playboi Carti': {}, 'Stevie Nicks': {}, 'Sean Ono Lennon': {}, 'Photek': {}}\n",
      "{'Nikki Lane': {}, 'Zella Day': {}, 'Weyes Blood': {}, 'The Weeknd': {}, 'ASAP Rocky': {}, 'Playboi Carti': {}, 'Stevie Nicks': {}, 'Sean Ono Lennon': {}, 'Photek': {}, 'Kacey Musgraves': {}, 'Fred Armisen': {}, 'The Quebe Sisters': {}}\n"
     ]
    }
   ],
   "source": [
    "print(len(graph_1['Lana Del Rey']))\n",
    "print(len(graph_2['Lana Del Rey']))\n",
    "print(len(graph_3['Lana Del Rey']))\n",
    "print(len(graph_4['Lana Del Rey']))\n",
    "print(graph_1['Lana Del Rey'])\n",
    "print(graph_4['Lana Del Rey'])"
   ]
  },
  {
   "cell_type": "markdown",
   "id": "b82fef6e-6c09-47ee-b6ea-f4f773bd6acd",
   "metadata": {},
   "source": [
    "It suprises me that each layer adds one connection. I would expect that the probability of a new connection would decrease with each layer, but I suppose that is counterbalanced by the exponential growth of the nodes. Also, \n",
    "\n",
    "`Kacey Musgraves + Lana Del Rey >>>>>>>`"
   ]
  },
  {
   "cell_type": "markdown",
   "id": "32b50c0a-df79-4999-b6b6-952f523da29b",
   "metadata": {},
   "source": [
    "### But I digress. How about some network metrics?"
   ]
  },
  {
   "cell_type": "code",
   "execution_count": 128,
   "id": "2bac7851-8b76-410d-a753-787b213f0e34",
   "metadata": {},
   "outputs": [
    {
     "data": {
      "text/plain": [
       "count    7987.000000\n",
       "mean        2.743709\n",
       "std        10.610340\n",
       "min         1.000000\n",
       "25%         1.000000\n",
       "50%         1.000000\n",
       "75%         1.000000\n",
       "max       267.000000\n",
       "dtype: float64"
      ]
     },
     "execution_count": 128,
     "metadata": {},
     "output_type": "execute_result"
    }
   ],
   "source": [
    "got_graph_degree = pd.Series(list(dict(graph_4.degree()).values()))\n",
    "got_graph_degree.describe()"
   ]
  },
  {
   "cell_type": "code",
   "execution_count": 137,
   "id": "f3a6e4a5-8fbb-4f72-a548-d36553d2aeb2",
   "metadata": {},
   "outputs": [
    {
     "data": {
      "text/plain": [
       "[('Sir Andrew Davis', 267),\n",
       " ('Shawn Pelton', 265),\n",
       " ('Ewan McGregor', 202),\n",
       " ('Hamza', 185),\n",
       " ('Ab-Soul', 170)]"
      ]
     },
     "execution_count": 137,
     "metadata": {},
     "output_type": "execute_result"
    }
   ],
   "source": [
    "sorted(graph_4.degree, key=lambda x: x[1], reverse=True)[0:5]"
   ]
  },
  {
   "cell_type": "markdown",
   "id": "c84f85a0-9288-44f4-acb8-12aecf10b52d",
   "metadata": {},
   "source": [
    "Sir Andrew Davis? Makes sense.\n",
    "\n",
    "Shawn Pelton? Okay.\n",
    "\n",
    "Ewan McGregor?? What???\n",
    "\n",
    "So it turns out Ewan McGregor is in a few musicals. Being in musicals means that he is featured alongside many, many artists. This is interesting to note- actors in musicals probably have many more musical connections (at least in terms of song credits)."
   ]
  },
  {
   "cell_type": "code",
   "execution_count": null,
   "id": "cbbb7cb9-4e77-4d00-b1f9-851fea51b4a0",
   "metadata": {},
   "outputs": [],
   "source": []
  }
 ],
 "metadata": {
  "environment": {
   "name": "tf2-gpu.2-6.m81",
   "type": "gcloud",
   "uri": "gcr.io/deeplearning-platform-release/tf2-gpu.2-6:m81"
  },
  "kernelspec": {
   "display_name": "Python 3",
   "language": "python",
   "name": "python3"
  },
  "language_info": {
   "codemirror_mode": {
    "name": "ipython",
    "version": 3
   },
   "file_extension": ".py",
   "mimetype": "text/x-python",
   "name": "python",
   "nbconvert_exporter": "python",
   "pygments_lexer": "ipython3",
   "version": "3.7.10"
  }
 },
 "nbformat": 4,
 "nbformat_minor": 5
}
