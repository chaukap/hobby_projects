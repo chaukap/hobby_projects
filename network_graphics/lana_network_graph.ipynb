{
 "cells": [
  {
   "cell_type": "markdown",
   "id": "7425a9a4-9e69-4e12-bced-e5871ab2fbeb",
   "metadata": {},
   "source": [
    "# Visualizing an artist's network\n",
    "### Chandler Haukap"
   ]
  },
  {
   "cell_type": "markdown",
   "id": "66449613-d444-4dca-8324-ac89b67a2a3a",
   "metadata": {},
   "source": [
    "Coming into this project I had no experience plotting. [Rebecca Weng's article](https://towardsdatascience.com/tutorial-network-visualization-basics-with-networkx-and-plotly-and-a-little-nlp-57c9bbb55bb9) on creating network graphs was a game changer!"
   ]
  },
  {
   "cell_type": "markdown",
   "id": "e5697c3e-6cfe-4578-9713-2ebdf0e536be",
   "metadata": {},
   "source": [
    "## Import libraries and make sure spotify is working"
   ]
  },
  {
   "cell_type": "code",
   "execution_count": 1,
   "id": "d5757f22-71cb-4935-a3f9-9bdd45c5328e",
   "metadata": {},
   "outputs": [
    {
     "data": {
      "text/plain": [
       "'Chandler'"
      ]
     },
     "execution_count": 1,
     "metadata": {},
     "output_type": "execute_result"
    }
   ],
   "source": [
    "import pandas as pd\n",
    "import spotipy\n",
    "import numpy as np\n",
    "from spotipy.oauth2 import SpotifyOAuth\n",
    "import networkx as nx\n",
    "import matplotlib.pyplot as plt\n",
    "import plotly.offline as py\n",
    "import plotly.graph_objects as go\n",
    "import json\n",
    "%matplotlib inline\n",
    "\n",
    "with open('../keys.json') as json_file:\n",
    "    keys = json.load(json_file)\n",
    "    \n",
    "scope = \"user-read-recently-played user-read-private user-read-email user-library-read user-library-modify playlist-modify-public\"\n",
    "sp = spotipy.Spotify(\n",
    "  auth_manager=SpotifyOAuth(client_id=keys['spotify']['client_id'],\n",
    "  client_secret=keys['spotify']['secret'],\n",
    "  redirect_uri=keys['spotify']['redirect_uri'],\n",
    "  scope=scope,\n",
    "  open_browser=False)\n",
    ")\n",
    "sp.me()['display_name']"
   ]
  },
  {
   "cell_type": "markdown",
   "id": "2ae62aa6-c8d9-441b-8138-0bc201d5f457",
   "metadata": {},
   "source": [
    "### Lets pick an artist that has a few collaborations, but not too many.\n",
    "But, lets be real, I was picking Lana Del Rey either way ;)"
   ]
  },
  {
   "cell_type": "code",
   "execution_count": 2,
   "id": "6f8f2dab-92b4-42fa-af06-ac9a05d317de",
   "metadata": {},
   "outputs": [
    {
     "data": {
      "text/plain": [
       "'00FQb4jTyendYWaN8pK0wa'"
      ]
     },
     "execution_count": 2,
     "metadata": {},
     "output_type": "execute_result"
    }
   ],
   "source": [
    "sp.search(q='artist:Lana Del Rey', type='artist')['artists']['items'][0]['id']"
   ]
  },
  {
   "cell_type": "markdown",
   "id": "e178e2cd-01ef-4231-af64-452fc0e01a43",
   "metadata": {},
   "source": [
    "### Now we have an id for Lana. With that, we can view all of her albums"
   ]
  },
  {
   "cell_type": "code",
   "execution_count": 3,
   "id": "d592813b-70ae-4f32-b1b9-48ee8bb259c4",
   "metadata": {},
   "outputs": [
    {
     "name": "stdout",
     "output_type": "stream",
     "text": [
      "Blue Banisters\n",
      "Chemtrails Over The Country Club\n",
      "Norman Fucking Rockwell!\n",
      "Lust For Life\n",
      "Lust For Life\n",
      "Lust For Life\n",
      "Honeymoon\n",
      "Honeymoon\n",
      "Honeymoon\n",
      "Ultraviolence (Deluxe)\n",
      "Ultraviolence\n",
      "Ultraviolence (Deluxe)\n",
      "Ultraviolence\n",
      "Ultraviolence\n",
      "Ultraviolence\n",
      "Ultraviolence\n",
      "Ultraviolence (Deluxe)\n",
      "Ultraviolence\n",
      "Ultraviolence - Audio Commentary\n",
      "Born To Die - The Paradise Edition\n"
     ]
    }
   ],
   "source": [
    "albums = sp.artist_albums('00FQb4jTyendYWaN8pK0wa')['items']\n",
    "album_ids = []\n",
    "for album in albums:\n",
    "    print(album['name'])\n",
    "    album_ids.append(album['id'])"
   ]
  },
  {
   "cell_type": "markdown",
   "id": "8aee5dbb-3615-4cb6-b9ec-7457a5b78c68",
   "metadata": {},
   "source": [
    "### With the album ids available, we can iterate across them and pull all of the tracks."
   ]
  },
  {
   "cell_type": "code",
   "execution_count": 4,
   "id": "684fe1bd-f9fd-4481-9d9c-9354305c9dc8",
   "metadata": {},
   "outputs": [],
   "source": [
    "all_tracks = []\n",
    "for album in albums:\n",
    "    all_tracks += sp.album_tracks(album['id'])['items']"
   ]
  },
  {
   "cell_type": "markdown",
   "id": "7f7ea4be-df71-472f-a9a4-3504baa51e22",
   "metadata": {},
   "source": [
    "### And finally, we can view all of the artists on the track. The first artist will be Lana of course, and the rest are her collaborators."
   ]
  },
  {
   "cell_type": "code",
   "execution_count": 6,
   "id": "21c3872c-3461-468f-b2ba-9512d9acdce8",
   "metadata": {},
   "outputs": [
    {
     "name": "stdout",
     "output_type": "stream",
     "text": [
      "Nikki Lane\n",
      "Zella Day\n",
      "Weyes Blood\n",
      "The Weeknd\n",
      "A$AP Rocky\n",
      "Playboi Carti\n",
      "A$AP Rocky\n",
      "Stevie Nicks\n",
      "Sean Ono Lennon\n",
      "The Weeknd\n",
      "A$AP Rocky\n",
      "Playboi Carti\n",
      "A$AP Rocky\n",
      "Stevie Nicks\n",
      "Sean Ono Lennon\n",
      "The Weeknd\n",
      "A$AP Rocky\n",
      "Playboi Carti\n",
      "A$AP Rocky\n",
      "Stevie Nicks\n",
      "Sean Ono Lennon\n",
      "Photek\n"
     ]
    }
   ],
   "source": [
    "for track in all_tracks:\n",
    "    for artist in track['artists']:\n",
    "        if artist['name'] != 'Lana Del Rey':\n",
    "            print(artist['name'])"
   ]
  },
  {
   "cell_type": "markdown",
   "id": "ede247ad-2c57-44c1-91ab-ae1510356b59",
   "metadata": {},
   "source": [
    "### Now that we have a proof of concept I'll wrap all of those loops into a single function."
   ]
  },
  {
   "cell_type": "code",
   "execution_count": 7,
   "id": "1cb0c5d9-1624-485d-a1a1-3e6256eb28ce",
   "metadata": {},
   "outputs": [],
   "source": [
    "def get_related_artists(artist_ids):\n",
    "    artists = []\n",
    "    for artist_id in artist_ids:\n",
    "        artist = sp.artist(artist_id)\n",
    "        all_tracks = []\n",
    "        for album in sp.artist_albums(artist_id)['items']:\n",
    "            all_tracks += sp.album_tracks(album['id'])['items']\n",
    "\n",
    "        for track in all_tracks:\n",
    "            for i in range(0, len(track['artists'])):\n",
    "                if track['artists'][i]['id'] != artist['id']:\n",
    "                    artists.append([\n",
    "                        artist['name'], \n",
    "                        artist['id'], \n",
    "                        track['artists'][i]['name'], \n",
    "                        track['artists'][i]['id'],\n",
    "                        track['name'],\n",
    "                        track['id']\n",
    "                    ])\n",
    "                    \n",
    "    return artists"
   ]
  },
  {
   "cell_type": "markdown",
   "id": "cb829a19-6bf2-46c5-90a6-ff3a234b3a0c",
   "metadata": {},
   "source": [
    "### That's fairly complicated. Lets make sure it works."
   ]
  },
  {
   "cell_type": "code",
   "execution_count": 8,
   "id": "ed021582-8026-4203-ba4f-9a28354b536c",
   "metadata": {},
   "outputs": [
    {
     "name": "stdout",
     "output_type": "stream",
     "text": [
      "Lana Del Rey->Nikki Lane\n",
      "Lana Del Rey->Zella Day\n",
      "Lana Del Rey->Weyes Blood\n",
      "Lana Del Rey->The Weeknd\n",
      "Lana Del Rey->A$AP Rocky\n",
      "Lana Del Rey->Playboi Carti\n",
      "Lana Del Rey->A$AP Rocky\n",
      "Lana Del Rey->Stevie Nicks\n",
      "Lana Del Rey->Sean Ono Lennon\n",
      "Lana Del Rey->The Weeknd\n",
      "Lana Del Rey->A$AP Rocky\n",
      "Lana Del Rey->Playboi Carti\n",
      "Lana Del Rey->A$AP Rocky\n",
      "Lana Del Rey->Stevie Nicks\n",
      "Lana Del Rey->Sean Ono Lennon\n",
      "Lana Del Rey->The Weeknd\n",
      "Lana Del Rey->A$AP Rocky\n",
      "Lana Del Rey->Playboi Carti\n",
      "Lana Del Rey->A$AP Rocky\n",
      "Lana Del Rey->Stevie Nicks\n",
      "Lana Del Rey->Sean Ono Lennon\n",
      "Lana Del Rey->Photek\n"
     ]
    }
   ],
   "source": [
    "artists = get_related_artists(['00FQb4jTyendYWaN8pK0wa'])\n",
    "for artist in artists:\n",
    "    print(f\"{artist[0]}->{artist[2]}\")"
   ]
  },
  {
   "cell_type": "markdown",
   "id": "a2d37837-2345-40b6-b07e-d741bac68fd4",
   "metadata": {},
   "source": [
    "### Looks good! However, this isn't much of a network. What about Lana's connections' connections? \n",
    "Here I have a choice. The cleanest code would be a recursive function that builds the network. However, recursion is slow. Stacking functions on top of functions puts a lot of strain on the python interpreter. On top of that, what if two branches of recursion contain the same artist? We could potentially duplicate a ton of work. Instead, lets write a dynamic program that does what we want."
   ]
  },
  {
   "cell_type": "code",
   "execution_count": 9,
   "id": "e24c2700-6ff8-4d37-89dc-4855e9f1b976",
   "metadata": {},
   "outputs": [],
   "source": [
    "def get_network(size, root_artist_id):\n",
    "    network = get_related_artists([root_artist_id])\n",
    "    next_index = 1\n",
    "    last_index = 0\n",
    "    \n",
    "    for i in range(0, size-1):\n",
    "        next_index = len(network)\n",
    "        network += get_related_artists(np.unique(np.array([a[3] for a in network[last_index:]])))\n",
    "        last_index = next_index\n",
    "\n",
    "    return network"
   ]
  },
  {
   "cell_type": "markdown",
   "id": "c6966a0b-8ed6-460b-be65-70010c744691",
   "metadata": {},
   "source": [
    "### And we'll test it out!"
   ]
  },
  {
   "cell_type": "code",
   "execution_count": 117,
   "id": "bd826f7b-d26e-4a20-a092-6f9c6abfadda",
   "metadata": {},
   "outputs": [
    {
     "name": "stdout",
     "output_type": "stream",
     "text": [
      "74521\n"
     ]
    }
   ],
   "source": [
    "result = get_network(3, '00FQb4jTyendYWaN8pK0wa')\n",
    "print(len(result))"
   ]
  },
  {
   "cell_type": "markdown",
   "id": "81513919-a747-431c-ac2c-94eeba5e8d03",
   "metadata": {},
   "source": [
    "74,521 entries. That's waaay more than I expected. But, I bet there are some duplicates. I know for a fact that most music labels put out multiple versions of an album. Also, I know that the function I wrote doesn't account for two artists connecting on multiple songs. \n",
    "\n",
    "Therefore, we'll need to clean the data to see how many connections are actually present!"
   ]
  },
  {
   "cell_type": "code",
   "execution_count": 118,
   "id": "b38ca493-5e2a-442e-9401-d16cfc2c1288",
   "metadata": {},
   "outputs": [],
   "source": [
    "df = pd.DataFrame(result)\n",
    "df.columns = [\n",
    "    'primary_artist',\n",
    "    'primary_artist_id',\n",
    "    'featured_artist',\n",
    "    'featured_artist_id',\n",
    "    'track',\n",
    "    'track_id'\n",
    "]\n",
    "df['unique_id'] = df.apply(lambda t: t.primary_artist_id + t.featured_artist_id, axis=1)\n",
    "df['track'] = df.groupby('unique_id').track.transform(lambda q: \"|\".join(np.unique(np.array(q))))\n",
    "df['track_id'] = df.groupby('unique_id').track_id.transform(lambda q: \"|\".join(np.unique(np.array(q))))"
   ]
  },
  {
   "cell_type": "code",
   "execution_count": 119,
   "id": "d0bd155b-3c1f-4c83-bf5e-5c8850bbe9e8",
   "metadata": {},
   "outputs": [
    {
     "name": "stdout",
     "output_type": "stream",
     "text": [
      "(24776, 7)\n"
     ]
    }
   ],
   "source": [
    "print(df.drop_duplicates(['unique_id']).shape)\n",
    "df.drop_duplicates(['unique_id']).to_csv(\"lana_3.csv\", index=False)"
   ]
  },
  {
   "cell_type": "markdown",
   "id": "8ceac9cc-29fc-40ac-a781-7d2e57c5173c",
   "metadata": {},
   "source": [
    "The first thing I did was convert the results into a Pandas DataFrame. Pandas gives me the ability to group entries and perform transformations on the groups. However, I need a column unique to each connection before I can create groups. \n",
    "\n",
    "That's why I start by combining the two artist ids. We only need one entry per combination, so we can remove the rest.\n",
    "\n",
    "But, I wanted to do something fancier to handle the tracks. In order to retain all of the information I performed a transformation on the grouped tracks to join them using a \"|\" symbol. This will retain all of the information for artist combinations that collaborated on more than one song.\n",
    "\n",
    "And finally, I removed duplicates with the `drop_duplicates` function. I saved the results to a CSV so I don't have to rerun all of those Spotify API calls."
   ]
  },
  {
   "cell_type": "markdown",
   "id": "d5978deb-0a25-4885-94e2-cba359855e3f",
   "metadata": {},
   "source": [
    "### Anyways, we're down to 24,776 entries!\n",
    "\n",
    "Now, lets make graphs!"
   ]
  },
  {
   "cell_type": "code",
   "execution_count": 22,
   "id": "7b585390-0f58-4689-ab00-feba3d20c2fd",
   "metadata": {},
   "outputs": [],
   "source": [
    "depth_3 = pd.read_csv('lana_3.csv')"
   ]
  },
  {
   "cell_type": "markdown",
   "id": "87bbc884-b751-4178-93c0-bfcf9b08957e",
   "metadata": {},
   "source": [
    "Here are the number of connections, but what about the number of nodes?"
   ]
  },
  {
   "cell_type": "code",
   "execution_count": 23,
   "id": "541e5a59-711d-4cf6-9d46-79667d4a3f04",
   "metadata": {},
   "outputs": [
    {
     "name": "stdout",
     "output_type": "stream",
     "text": [
      "(10720,)\n"
     ]
    }
   ],
   "source": [
    "print(depth_3.featured_artist.unique().shape)"
   ]
  },
  {
   "cell_type": "markdown",
   "id": "27746c1c-7033-45f5-804c-a43a258f81dd",
   "metadata": {},
   "source": [
    "10,720 unique artists, a.k.a. nodes."
   ]
  },
  {
   "cell_type": "markdown",
   "id": "e1c746e4-d73a-44ba-87a8-1723f26f435b",
   "metadata": {},
   "source": [
    "### A little more information\n",
    "\n",
    "I want to make some cool visualizations. Right now, I have the nodes and edges for some graph visualizations, but I would like to add a few more dimensions. Here's my plan:\n",
    "\n",
    "* Depth: The closeness to Lana. I want to express this in the visualization as the size of the nodes.\n",
    "* Connectedness: The number of songs they have together: I want to express this as line (edge) thickness."
   ]
  },
  {
   "cell_type": "code",
   "execution_count": 24,
   "id": "14f6d121-ea57-4c38-aeb9-65ad5c797163",
   "metadata": {},
   "outputs": [
    {
     "data": {
      "text/plain": [
       "count    24776.000000\n",
       "mean         1.990111\n",
       "std          4.291406\n",
       "min          1.000000\n",
       "25%          1.000000\n",
       "50%          1.000000\n",
       "75%          2.000000\n",
       "max        132.000000\n",
       "Name: songs, dtype: float64"
      ]
     },
     "execution_count": 24,
     "metadata": {},
     "output_type": "execute_result"
    }
   ],
   "source": [
    "depth_3['songs'] = depth_3.track.map(lambda t: len(t.split(\"|\")))\n",
    "depth_3.songs.describe()"
   ]
  },
  {
   "cell_type": "markdown",
   "id": "e5fcaffa-d8f8-47f3-ad77-701edab6d19b",
   "metadata": {},
   "source": [
    "132... that's a lot of songs. I might investigate that later, but for now I'm pushing forward with the visualization."
   ]
  },
  {
   "cell_type": "markdown",
   "id": "3124e37a-94d5-4b97-a592-7f43712e5b44",
   "metadata": {},
   "source": [
    "### Now the fun part- lets visualize the graph!"
   ]
  },
  {
   "cell_type": "markdown",
   "id": "ff151119-93d9-4ff5-b6d5-ff6da8826c6e",
   "metadata": {},
   "source": [
    "First, I ran into a problem with names like 'Joey Bada$$'. The HTML that I plan on generating needs the html code for '$'"
   ]
  },
  {
   "cell_type": "code",
   "execution_count": 25,
   "id": "543a6025-aca8-4024-ac0d-e331d9ef36df",
   "metadata": {},
   "outputs": [
    {
     "data": {
      "text/plain": [
       "'A&#36;AP Rocky'"
      ]
     },
     "execution_count": 25,
     "metadata": {},
     "output_type": "execute_result"
    }
   ],
   "source": [
    "depth_3.featured_artist = depth_3.featured_artist.map(lambda r: r.replace(\"$\", \"&#36;\"))\n",
    "depth_3.primary_artist = depth_3.primary_artist.map(lambda r: r.replace(\"$\", \"&#36;\"))\n",
    "depth_3.iloc[4].featured_artist"
   ]
  },
  {
   "cell_type": "code",
   "execution_count": 26,
   "id": "dc876efd-f612-4626-b9e8-2cb260cfab49",
   "metadata": {},
   "outputs": [],
   "source": [
    "graph = nx.Graph()"
   ]
  },
  {
   "cell_type": "code",
   "execution_count": 31,
   "id": "40c04b8e-f8a5-4fb6-b3c5-506b2076b13b",
   "metadata": {},
   "outputs": [],
   "source": [
    "def add_undirected_edge(graph, node_1, node_2, songs):\n",
    "    graph.add_edge(\n",
    "        node_1, \n",
    "        node_2, \n",
    "        songs=songs\n",
    "    )\n",
    "        \n",
    "    graph.add_edge(\n",
    "        node_2, \n",
    "        node_1, \n",
    "        songs=songs\n",
    "    )"
   ]
  },
  {
   "cell_type": "markdown",
   "id": "01f5c384-d7ba-44be-a92a-009af90c66c3",
   "metadata": {},
   "source": [
    "Adding the nodes and edges"
   ]
  },
  {
   "cell_type": "code",
   "execution_count": 34,
   "id": "7d3420a5-dd64-4344-8f3c-6e601d0b4b8e",
   "metadata": {},
   "outputs": [],
   "source": [
    "_ = depth_3.apply(lambda e: graph.add_node(e.featured_artist), \n",
    "                  axis=1)\n",
    "_ = depth_3.apply(lambda y: \n",
    "                  add_undirected_edge(\n",
    "                      graph,\n",
    "                      y.primary_artist, \n",
    "                      y.featured_artist, \n",
    "                      songs=y.songs\n",
    "                  ), \n",
    "                  axis=1)"
   ]
  },
  {
   "cell_type": "code",
   "execution_count": 35,
   "id": "fe44435c-d2aa-4874-aa30-c9748b0fc3c7",
   "metadata": {},
   "outputs": [
    {
     "data": {
      "text/plain": [
       "array([-0.12055352, -0.08662069])"
      ]
     },
     "execution_count": 35,
     "metadata": {},
     "output_type": "execute_result"
    }
   ],
   "source": [
    "node_positions = nx.spring_layout(graph, scale=2)\n",
    "node_positions['Lana Del Rey']"
   ]
  },
  {
   "cell_type": "code",
   "execution_count": 36,
   "id": "2127db91-e234-43ed-a6a0-704ac1c0a441",
   "metadata": {},
   "outputs": [],
   "source": [
    "def make_edge(x, y, text, width, depth):\n",
    "    return  go.Scatter(x = x,\n",
    "                       y = y,\n",
    "                       line = dict(width = width,\n",
    "                                   color = f'rgba(0, 0, {255 / depth}, 1)'),\n",
    "                       hoverinfo = 'text',\n",
    "                       text = ([text]),\n",
    "                       mode = 'lines')"
   ]
  },
  {
   "cell_type": "code",
   "execution_count": 37,
   "id": "4f061bb3-99fc-418d-b8fc-d0eeee860de6",
   "metadata": {},
   "outputs": [],
   "source": [
    "edge_trace = []\n",
    "paths = dict(nx.all_pairs_shortest_path_length(graph))\n",
    "\n",
    "for edge in graph.edges(data=True):\n",
    "    char_1 = edge[0]\n",
    "    char_2 = edge[1]\n",
    "\n",
    "    x0, y0 = node_positions[char_1]\n",
    "    x1, y1 = node_positions[char_2]\n",
    "\n",
    "    text   = char_1 + '--' + char_2 + ': ' + '1'\n",
    "    trace  = make_edge([x0, x1, None], [y0, y1, None], text, 2, 1)\n",
    "\n",
    "    edge_trace.append(trace)"
   ]
  },
  {
   "cell_type": "code",
   "execution_count": null,
   "id": "73ec6cbc-5fe7-4816-805d-1af589168805",
   "metadata": {},
   "outputs": [],
   "source": [
    "node_trace = go.Scatter(x = [],\n",
    "                        y = [],\n",
    "                        text = [],\n",
    "                        textposition = \"top center\",\n",
    "                        textfont_size = 10,\n",
    "                        mode = 'markers+text',\n",
    "                        hoverinfo = 'none',\n",
    "                        marker = dict(color = [],\n",
    "                                      size  = [],\n",
    "                                      line  = None),\n",
    "                        textfont = dict(family= \"sans serif\",\n",
    "                                        size  = 18,\n",
    "                                        color = \"Black\")\n",
    "                       )\n",
    "\n",
    "for node, artist in depth_3.apply(lambda t: (t.featured_artist, t.primary_artist), axis=1):\n",
    "    x, y = node_positions[node]\n",
    "    node_trace['x'] += tuple([x])\n",
    "    node_trace['y'] += tuple([y])\n",
    "    if node == 'Lana Del Rey':\n",
    "        node_trace['marker']['color'] += tuple(['red'])\n",
    "        node_trace['marker']['size'] += tuple([40])\n",
    "    else:\n",
    "        node_trace['marker']['color'] += tuple(['white'])\n",
    "        node_trace['marker']['size'] += tuple([\n",
    "            40 / (paths['Lana Del Rey'][node] if paths['Lana Del Rey'][node] is not 0 else 1)\n",
    "        ])\n",
    "    node_trace['text'] += tuple(['<b>' + node + '</b>'])"
   ]
  },
  {
   "cell_type": "code",
   "execution_count": null,
   "id": "de35dfe4-47b5-4e58-b4cf-a02ddc273308",
   "metadata": {},
   "outputs": [],
   "source": [
    "layout = go.Layout(\n",
    "    paper_bgcolor='rgba(73,73,73,1)',\n",
    "    plot_bgcolor='rgba(0,100,0,0)',\n",
    "    height=1080,\n",
    "    width=1080\n",
    ")\n",
    "fig = go.Figure(layout = layout)\n",
    "\n",
    "for trace in edge_trace:\n",
    "    fig.add_trace(trace)\n",
    "\n",
    "fig.add_trace(node_trace)\n",
    "\n",
    "fig.update_layout(showlegend = False)\n",
    "fig.update_xaxes(showticklabels = False, showgrid=False, zeroline=False)\n",
    "fig.update_yaxes(showticklabels = False, showgrid=False, zeroline=False)\n",
    "\n",
    "#fig.show()\n",
    "py.plot(fig, filename='lana_test.html')"
   ]
  },
  {
   "cell_type": "markdown",
   "id": "91df235a-0d11-4eb4-9d1b-83507aa0aafc",
   "metadata": {},
   "source": [
    "Notice that I commented out fig.show(). That's for good reason. The HTML file is insanely large. So large, in fact, that it's virtually unreadable."
   ]
  },
  {
   "cell_type": "markdown",
   "id": "ec3934ff-564b-4352-bd95-9952527cc147",
   "metadata": {},
   "source": [
    "### Since the depth 4 graph is so difficult to read, let's instead come up with some metrics.\n",
    "\n",
    "I've run the get_network function with a depth of 1, 2, 3, and 4 why don't we see how the connection count is growing?"
   ]
  },
  {
   "cell_type": "code",
   "execution_count": 98,
   "id": "1ceddd9c-490a-41a0-8d42-702a2471dba9",
   "metadata": {},
   "outputs": [
    {
     "data": {
      "text/plain": [
       "[<matplotlib.lines.Line2D at 0x7f19c96f7510>,\n",
       " <matplotlib.lines.Line2D at 0x7f19c96f7f50>]"
      ]
     },
     "execution_count": 98,
     "metadata": {},
     "output_type": "execute_result"
    },
    {
     "data": {
      "image/png": "[encoded data removed]",
      "text/plain": [
       "<Figure size 432x288 with 1 Axes>"
      ]
     },
     "metadata": {
      "needs_background": "light"
     },
     "output_type": "display_data"
    }
   ],
   "source": [
    "plt.plot(depth, people.values, 'r', depth, connections.values, 'b')\n",
    "\n",
    "\n",
    "fig, ax = plt.subplots(nrows=1, ncols=1)\n",
    "ax.bar(buckets.unique(), buckets[df.cat == 1].value_counts()[buckets.unique()], color='white')\n",
    "ax.set_title(\"Pawpularity distribution for cats\", color='white')\n",
    "ax.set_xlabel(\"Pawpularity / 10\")\n",
    "ax.set_ylabel(\"Count\")\n",
    "ax.set_facecolor('#6504b5')\n",
    "fig.patch.set_facecolor('#6504b5')\n",
    "ax.spines['bottom'].set_color((.1, 0, 0, 0))\n",
    "ax.spines['top'].set_color((.1, 0, 0, 0))\n",
    "ax.spines['left'].set_color((.1, 0, 0, 0))\n",
    "ax.spines['right'].set_color((.1, 0, 0, 0))\n",
    "ax.xaxis.label.set_color('white')\n",
    "ax.yaxis.label.set_color('white')\n",
    "ax.tick_params(axis='x', colors='white')\n",
    "ax.tick_params(axis='y', colors='white')\n",
    "fig.savefig('cat_dist.png')\n",
    "plt.show()"
   ]
  },
  {
   "cell_type": "markdown",
   "id": "9b532d75-099a-46f9-b5a4-8c67fcc2caae",
   "metadata": {},
   "source": [
    "The number of connections seems to grow slightly faster than the number of people. This makes sense, because people added at new layers may have more than one connection. Also, I'm only looking at songs by the given artist featuring the connected artist and not the other way around. Therefore, it is possible that I could add an artist at depth 4 who has a song featuring Lana Del Rey. The connection wouldn't be present for depth=3, but it would appear for depth=4. This becomes clear if we look at Lana Del Rey's connection count at each depth."
   ]
  },
  {
   "cell_type": "code",
   "execution_count": 107,
   "id": "e09bf16a-8528-448f-ac57-5c01a9a9e30f",
   "metadata": {},
   "outputs": [
    {
     "name": "stdout",
     "output_type": "stream",
     "text": [
      "9\n",
      "10\n",
      "11\n",
      "12\n",
      "{'Nikki Lane': {}, 'Zella Day': {}, 'Weyes Blood': {}, 'The Weeknd': {}, 'ASAP Rocky': {}, 'Playboi Carti': {}, 'Stevie Nicks': {}, 'Sean Ono Lennon': {}, 'Photek': {}}\n",
      "{'Nikki Lane': {}, 'Zella Day': {}, 'Weyes Blood': {}, 'The Weeknd': {}, 'ASAP Rocky': {}, 'Playboi Carti': {}, 'Stevie Nicks': {}, 'Sean Ono Lennon': {}, 'Photek': {}, 'Kacey Musgraves': {}, 'Fred Armisen': {}, 'The Quebe Sisters': {}}\n"
     ]
    }
   ],
   "source": [
    "print(len(graph_1['Lana Del Rey']))\n",
    "print(len(graph_2['Lana Del Rey']))\n",
    "print(len(graph_3['Lana Del Rey']))\n",
    "print(len(graph_4['Lana Del Rey']))\n",
    "print(graph_1['Lana Del Rey'])\n",
    "print(graph_4['Lana Del Rey'])"
   ]
  },
  {
   "cell_type": "markdown",
   "id": "b82fef6e-6c09-47ee-b6ea-f4f773bd6acd",
   "metadata": {},
   "source": [
    "It suprises me that each layer adds one connection. I would expect that the probability of a new connection would decrease with each layer, but I suppose that is counterbalanced by the exponential growth of the nodes. Also, \n",
    "\n",
    "`Kacey Musgraves + Lana Del Rey >>>>>>>`"
   ]
  },
  {
   "cell_type": "markdown",
   "id": "32b50c0a-df79-4999-b6b6-952f523da29b",
   "metadata": {},
   "source": [
    "### But I digress. How about some network metrics?"
   ]
  },
  {
   "cell_type": "code",
   "execution_count": 128,
   "id": "2bac7851-8b76-410d-a753-787b213f0e34",
   "metadata": {},
   "outputs": [
    {
     "data": {
      "text/plain": [
       "count    7987.000000\n",
       "mean        2.743709\n",
       "std        10.610340\n",
       "min         1.000000\n",
       "25%         1.000000\n",
       "50%         1.000000\n",
       "75%         1.000000\n",
       "max       267.000000\n",
       "dtype: float64"
      ]
     },
     "execution_count": 128,
     "metadata": {},
     "output_type": "execute_result"
    }
   ],
   "source": [
    "got_graph_degree = pd.Series(list(dict(graph_4.degree()).values()))\n",
    "got_graph_degree.describe()"
   ]
  },
  {
   "cell_type": "code",
   "execution_count": 137,
   "id": "f3a6e4a5-8fbb-4f72-a548-d36553d2aeb2",
   "metadata": {},
   "outputs": [
    {
     "data": {
      "text/plain": [
       "[('Sir Andrew Davis', 267),\n",
       " ('Shawn Pelton', 265),\n",
       " ('Ewan McGregor', 202),\n",
       " ('Hamza', 185),\n",
       " ('Ab-Soul', 170)]"
      ]
     },
     "execution_count": 137,
     "metadata": {},
     "output_type": "execute_result"
    }
   ],
   "source": [
    "sorted(graph_4.degree, key=lambda x: x[1], reverse=True)[0:5]"
   ]
  },
  {
   "cell_type": "markdown",
   "id": "c84f85a0-9288-44f4-acb8-12aecf10b52d",
   "metadata": {},
   "source": [
    "Sir Andrew Davis? Makes sense.\n",
    "\n",
    "Shawn Pelton? Okay.\n",
    "\n",
    "Ewan McGregor?? What???\n",
    "\n",
    "So it turns out Ewan McGregor is in a few musicals. Being in musicals means that he is featured alongside many, many artists. This is interesting to note- actors in musicals probably have many more musical connections (at least in terms of song credits)."
   ]
  },
  {
   "cell_type": "code",
   "execution_count": 95,
   "id": "cbbb7cb9-4e77-4d00-b1f9-851fea51b4a0",
   "metadata": {},
   "outputs": [],
   "source": [
    "paths = dict(nx.all_pairs_shortest_path_length(graph))"
   ]
  },
  {
   "cell_type": "code",
   "execution_count": 97,
   "id": "dbf21805-ac17-4d6f-a3a9-991be810c7b6",
   "metadata": {},
   "outputs": [
    {
     "name": "stdout",
     "output_type": "stream",
     "text": [
      "{'Lana Del Rey': 0, 'Sean Ono Lennon': 1, 'Photek': 1, 'Nikki Lane': 1, 'Stevie Nicks': 1, 'Weyes Blood': 1, 'Playboi Carti': 1, 'A&#36;AP Rocky': 1, 'The Weeknd': 1, 'Zella Day': 1, 'Miley Cyrus': 2, 'Krs.': 2, 'Ane Brun': 2, 'Of Monsters and Men': 2, 'Tom Petty and the Heartbreakers': 2, 'Red Coldhearted': 2, 'A&#36;AP Ferg': 2, 'Shelley FKA DRAM': 2, 'James Blake': 2, 'Elvis Presley': 2, 'T.I.': 2, 'Bobby Tucker Singers': 2, 'Dominic Cooper': 2, 'Eminem': 2, 'AURORA': 2, 'LeAnn Rimes': 2, '2 Chainz': 2, 'Golan': 2, 'YoungBoy Never Broke Again': 2, 'BENEE': 2, 'The Cranberries': 2, 'Nicki Minaj': 2, 'Boston Pops Orchestra': 2, 'Bree Runway': 2, 'Boulevards': 2, 'Shawn Colvin': 2, 'Kristina Murray': 2, 'Frank Sinatra': 2, 'Natalie Maines': 2, 'Leigh Nash': 2, 'Lil Mosey': 2, 'Surfaces': 2, 'SpaceGhostPurrp': 2, 'J Balvin': 2, 'Quality Control': 2, 'iann dior': 2, 'Dua Lipa': 2, 'Marshmello': 2, 'John Williams': 2, 'Ken Lane Singers': 2, 'Comethazine': 2, 'Emily Haines': 2, 'Peaches': 2, 'Swedish House Mafia': 2, 'Twin Shadow': 2, 'Dave Stewart': 2, 'The Score': 2, '070 Shake': 2, 'JP Cooper': 2, 'Fat Tony': 2, 'A&#36;AP NAST': 2, 'Nathaniel Rateliff & The Night Sweats': 2, 'NERVO': 2, 'Gregory Porter': 2, 'Rascal Flatts': 2, 'Nick Cave': 2, 'k.d. lang': 2, 'Angeles': 2, 'ScHoolboy Q': 2, 'U2': 2, 'My & Mats': 2, 'Lil Uzi Vert': 2, 'Edward Sanda': 2, 'Katy Perry': 2, 'Pi’erre Bourne': 2, 'YG': 2, 'Sfera Ebbasta': 2, 'Florence + The Machine': 2, 'Chelsea Cutler': 2, 'Joey Bada&#36;&#36;': 2, 'Miguel': 2, 'YUNGBLUD': 2, 'Father John Misty': 2, 'THE ANXIETY': 2, 'Action Bronson': 2, 'slowthai': 2, 'Victoria Williams': 2, 'Neon Trees': 2, 'American Authors': 2, 'Sam Fender': 2, 'Duke Ellington': 2, 'GOVI': 2, 'A1 x J1': 2, 'Run–D.M.C.': 2, 'Ty Dolla &#36;ign': 2, 'Loyle Carner': 2, 'Chris Isaak': 2, 'UGK': 2, 'David Johansen': 2, 'Mos Def': 2, 'Bvcovia': 2, 'Denzel Curry': 2, 'James Fauntleroy': 2, 'Chace Infinite': 2, 'Pentatonix': 2, 'Wham!': 2, 'Pokey LaFarge': 2, 'Young Nudy': 2, 'Rich The Kid': 2, 'Kim Petras': 2, 'Nena': 2, 'Future': 2, 'Arthur Fiedler': 2, 'Joan Jett & The Blackhearts': 2, 'Tommee Profitt': 2, 'Rich Gang': 2, 'Chloe Noone': 2, 'Mark Ronson': 2, 'Mellen Gi': 2, 'Culture Jam': 2, 'Amanda Seyfried': 2, 'Trinidad Cardona': 2, 'Yung Foe': 2, 'Charlotte Kemp Muhl': 2, 'Miss Li': 2, 'The Vamps': 2, 'DaBaby': 2, 'Moliy': 2, 'ABBA': 2, 'Maria McKee': 2, 'Tesher': 2, 'Big K.R.I.T.': 2, 'Yelawolf': 2, 'Neako': 2, 'Andreas Weise': 2, 'Young Thug': 2, 'Brandi Carlile': 2, 'Ray Conniff': 2, 'Ramriddlz': 2, 'AJR': 2, 'Andrea Bocelli': 2, 'Elton John': 2, 'Julian Lennon': 2, 'Wiktoria': 2, 'Ed Sheeran': 2, 'Kacey Musgraves': 2, 'Layton Greene': 2, 'Manuel Riva': 2, 'Dolly Parton': 2, 'Sofia Källgren': 2, 'Lil Durk': 2, 'MIKA': 2, 'Sting': 2, 'The Ronettes': 2, 'Danny Brown': 2, 'Barnens favoriter': 2, 'JP Harris': 2, 'Skrillex': 2, 'Two Feet': 2, 'Lucinda Williams': 2, 'Daft Punk': 2, 'José Feliciano': 2, 'easy life': 2, 'Die Antwoord': 2, 'Larry Campbell': 2, 'Francis On My Mind': 2, 'Britney Spears': 2, 'Kris Kristofferson': 2, 'Gaby Moreno': 2, 'Yung Bans': 2, 'Kelly Clarkson': 2, 'Mount Kimbie': 2, 'Barry Gibb': 2, 'B. Swanson Quartet': 2, 'Meghan Trainor': 2, 'Skepta': 2, 'BONES': 2, 'E.M.D.': 2, 'Don Henley': 2, 'The Revivalists': 2, 'Lil Baby': 2, 'Charlie Brown Jr.': 2, '*NSYNC': 2, 'SAFE': 2, 'Justin Bieber': 2, 'M.': 2, 'Polo G': 2, 'Foreign Boys': 2, 'Céline Dion': 2, 'Matt Berry': 2, 'Stevie Wonder': 2, 'Tim Heidecker': 2, 'Daisy the Great': 2, '42 Dugg': 2, 'Moneybagg Yo': 2, 'Carly Rae Jepsen': 2, 'Coi Leray': 2, 'Mitch Miller & The Gang': 2, 'Carola': 2, 'Rusted Root': 2, 'Kesha': 2, 'King Khan': 2, 'Eartha Kitt': 2, 'Sean Banan': 2, 'The Lone Bellow': 2, 'Aminé': 2, 'Slug † Christ': 2, 'Noisettes': 2, 'Zara Larsson': 2, 'Alex Bittman': 2, 'Glass Animals': 2, 'Daryl Hall & John Oates': 2, 'Alessiah': 2, 'Teresa Williams': 2, 'Angels in America': 2, 'Don Toliver': 2, 'The Amazons': 2, 'Whitney Houston': 2, 'Peter Jöback': 2, 'Lee Ann Womack': 2, 'Pop Smoke': 2, 'Logic': 2, 'A&#36;AP Twelvyy': 2, 'Lamb': 2, 'Selly': 2, 'Sabrina Claudio': 2, 'Lord Flacko': 2, 'Tranda': 2, 'Leven Kali': 2, 'Gunna': 2, 'Johnny Mathis': 2, 'Travis Scott': 2, 'Grasu XXL': 2, 'Travis Barker': 2, 'Soulfly': 2, 'Lee Vent': 2, 'PNAU': 2, 'David Crosby': 2, 'Santigold': 2, 'Trippie Redd': 2, 'Timbaland': 2, 'Lil Alex': 2, 'Becky Hill': 2, 'Diana Ross': 2, 'Tory Lanez': 2, 'Lil Wayne': 2, 'Ibrahim': 2, 'Taylor Swift': 2, 'Svenska barnsånger': 2, 'ArrDee': 2, 'Boney M.': 2, 'Gesaffelstein': 2, 'Michael Kiwanuka': 2, 'Melbourne Symphony Orchestra': 2, 'John Cameron Mitchell': 2, 'BoyWithUke': 2, \"Chef'Special\": 2, 'Gunplay': 2, 'Harry Connick, Jr.': 2, 'Daniel Caesar': 2, 'NEIKED': 2, 'Dean Martin': 2, 'John Denver': 2, 'D-Block Europe': 2, 'Boys Noize': 2, 'MEDUZA': 2, 'Alexandra Stan': 2, 'Killa Kyleon': 2, 'Mitchell Ayres & His Orchestra': 2, 'Queen': 2, 'WILLOW': 2, 'Lora': 2, 'Nane': 2, 'Machine Gun Kelly': 2, 'Tom Petty': 2, 'Kodak Black': 2, 'Yams': 2, 'Jeremy Zucker': 2, 'Bruce Hornsby': 2, 'Brent Cobb': 2, 'Juice WRLD': 2, 'Cherish': 2, 'Peg Parnevik': 2, 'Marilyn Manson': 2, 'Rod Stewart': 2, 'OverDoz.': 2, 'Puya': 2, 'Birdy Nam Nam': 2, 'I DONT KNOW HOW BUT THEY FOUND ME': 2, 'Amaarae': 2, 'Fall Out Boy': 2, 'Weeping Willows': 2, 'Liviu Teodorescu': 2, 'Migos': 2, 'Jill Andrews': 2, 'TRE': 2, 'The Offspring': 2, 'Astrid S': 2, 'James Bay': 2, 'Spike Jones & His City Slickers': 2, 'Steve Earle': 2, 'Jesse Harris': 2, 'Alison Krauss': 2, 'K CAMP': 2, 'Particle Kid': 2, 'Giveon': 2, 'Sonny Fodera': 2, 'Valeria Stoica': 2, 'Fleurie': 2, 'Nicole Cherry': 2, 'Martin Garrix': 2, 'Big Sean': 2, 'Da&#36;H': 2, 'Billie Eilish': 2, 'Todd Rundgren': 2, 'Elysian Fields': 2, '21 Savage': 2, 'Andy Williams': 2, 'Kendrick Lamar': 2, 'Godsmack': 2, 'Mustard': 2, 'Juicy J': 2, 'Barnmusik': 2, 'Roddy Ricch': 2, 'Internet Money': 2, 'Lil Tecca': 2, 'Calinacho': 2, 'Kelsey Waldon': 2, 'Rockwell': 2, 'M.I.A.': 2, 'The Killers': 2, 'Labrinth': 2, 'Ruen Brothers': 2, 'Dj Sfera': 2, 'Kavinsky': 2, 'Tony Bennett': 2, 'Moby': 2, 'Satra B.E.N.Z.': 2, 'Imagine Dragons': 2, 'Paul Wall': 2, 'Roy Orbison': 2, 'Aretha Franklin': 2, 'Ares': 2, 'OneRepublic': 2, 'Mae Muller': 2, 'X Ambassadors': 2, 'Ethereal': 2, 'Mariah Carey': 2, 'Logan Ledger': 2, 'Chief Keef': 2, 'Missy Elliott': 2, 'Josh Turner': 2, 'Kanye West': 2, 'Mickey Raphael': 2, 'Richard Thompson': 2, 'Nelly Furtado': 2, 'Acyde': 2, 'Keed': 2, 'Sarah McLachlan': 2, 'Gavin Friday': 2, 'BURNS': 2, 'FKA twigs': 2, 'Jason Derulo': 2, 'Florence Welch': 2, 'Buddy Miller': 2, 'Fiona Apple': 2, 'Lorde': 2, 'Joe Fox': 2, 'Mitza': 2, 'Luther Vandross': 2, 'Steely Dan': 2, 'Lil Yachty': 2, 'The Million': 2, 'Perry Como': 2, 'The Fontane Sisters': 2, 'Celly Campello': 2, 'BANNERS': 2, 'Bryson Tiller': 2, 'Maxo Kream': 2, \"Plain White T's\": 2, 'Jon Batiste': 2, 'Kameron': 2, 'Marius Moga': 2, 'Tyler Cole': 2, 'Gucci Mane': 2, 'Greta Van Fleet': 2, 'Illyus & Barrientos': 2, 'Darlene Love': 2, 'ABRA': 2, 'Ioana Ignat': 2, 'Elizabeth Cook': 2, 'Jonas Brothers': 2, 'Drake': 2, 'Duncan Laurence': 2, 'UnoTheActivist': 2, 'Conan Gray': 2, 'Olivia Rodrigo': 2, 'Main Attrakionz': 2, 'Marc Almond': 2, 'BØRNS': 2, 'Arvingarna': 2, 'Alan Walker': 2, 'Tommy Körberg': 2, 'Bun B': 2, 'Lil Tjay': 2, 'Devendra Banhart': 2, 'Baby E': 2, 'Joseph Bradshaw': 2, 'French Montana': 2, 'Doug Seegers': 2, 'Dorian Popa': 2, 'Gene Autry': 2, 'Grace Potter': 2, 'Sam Smith': 2, 'City Girls': 2, 'The Ray Conniff Singers': 2, 'ACRAZE': 2, 'Linnea Henriksson': 2, 'Lucius': 2, 'Albin Lee Meldau': 2, '6LACK': 2, 'Thirty Seconds To Mars': 2, 'Helga Davis': 2, 'Beyoncé': 2, 'OMC': 2, 'Jonathan Tyler': 2, 'Bastille': 2, 'Calin Pop': 2, 'XXXTENTACION': 2, 'Beth Orton': 2, 'Desure': 2, 'Offset': 2, 'Troye Sivan': 2, 'VUNK': 2, 'PnB Rock': 2, 'Shawn Mendes': 2, 'GSA': 2, 'Kid Cudi': 2, 'Leontine': 2, 'Kali Uchis': 2, 'Jaden': 2, 'Frank Ocean': 2, 'Bishop Briggs': 2, 'Capital Cities': 2, 'Perry Farrell': 2, 'Goodboys': 2}\n"
     ]
    }
   ],
   "source": [
    "print(paths['Lana Del Rey'])"
   ]
  },
  {
   "cell_type": "code",
   "execution_count": null,
   "id": "c241faec-6cc7-4fba-9f35-19778dff6a48",
   "metadata": {},
   "outputs": [],
   "source": []
  }
 ],
 "metadata": {
  "environment": {
   "name": "tf2-gpu.2-6.m81",
   "type": "gcloud",
   "uri": "gcr.io/deeplearning-platform-release/tf2-gpu.2-6:m81"
  },
  "kernelspec": {
   "display_name": "Python 3",
   "language": "python",
   "name": "python3"
  },
  "language_info": {
   "codemirror_mode": {
    "name": "ipython",
    "version": 3
   },
   "file_extension": ".py",
   "mimetype": "text/x-python",
   "name": "python",
   "nbconvert_exporter": "python",
   "pygments_lexer": "ipython3",
   "version": "3.7.10"
  }
 },
 "nbformat": 4,
 "nbformat_minor": 5
}
