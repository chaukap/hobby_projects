{
 "cells": [
  {
   "cell_type": "markdown",
   "id": "6d4aee5e-a60e-4501-82bc-49b44409f6b6",
   "metadata": {},
   "source": [
    "# Visualizing an artists musical network using the Spotify API\n",
    "> Chandler Haukap\n",
    "\n",
    "### I love music and I love data visualization. Why not use music to learn how to visualize network graphs?\n",
    "\n",
    "Coming into this project I had no experience plotting. [Rebecca Weng's article](https://towardsdatascience.com/tutorial-network-visualization-basics-with-networkx-and-plotly-and-a-little-nlp-57c9bbb55bb9) on creating network graphics using plotly was a huge help!"
   ]
  },
  {
   "cell_type": "markdown",
   "id": "6c6ea847-e0d2-4c05-b3e5-c07306ee0598",
   "metadata": {},
   "source": [
    "## Importing the libraries\n",
    "\n",
    "1) [Numpy](https://numpy.org/) and [Pandas](https://pandas.pydata.org/): The standard data science tools for manipulating matrices. If you're unfamiliar, [start here](https://pandas.pydata.org/pandas-docs/stable/user_guide/10min.html).\n",
    "2) [Spotipy](https://spotipy.readthedocs.io/en/2.19.0/): A fantastic Python wrapper for the [Spotify API](https://developer.spotify.com/documentation/web-api/).\n",
    "3) [Networkx](https://networkx.org/): A tool for analyzing networks. To oversimplify, networkx is to networks as pandas is to matrices.\n",
    "4) [MatPlotLib.pyplot](https://matplotlib.org/): We'll use this library for simple graphics like bar charts.\n",
    "5) [Plotly](https://plotly.com/python/): This graphics tool is much more powerful, but also more complicated. We'll use it to make the network graphs.\n",
    "6) Json: A built-in library. It converts objects from JavaScript Object Notation to Python dictionaries and back."
   ]
  },
  {
   "cell_type": "code",
   "execution_count": 1,
   "id": "47cc5563-96b1-478a-b712-9f8d3ca227e3",
   "metadata": {},
   "outputs": [],
   "source": [
    "import pandas as pd\n",
    "import spotipy\n",
    "import numpy as np\n",
    "from spotipy.oauth2 import SpotifyOAuth\n",
    "import networkx as nx\n",
    "import matplotlib.pyplot as plt\n",
    "import plotly.offline as py\n",
    "import plotly.graph_objects as go\n",
    "import json\n",
    "%matplotlib inline"
   ]
  },
  {
   "cell_type": "markdown",
   "id": "66285034-ae9d-4740-95e6-5d737fedf9d6",
   "metadata": {},
   "source": [
    "## Initialize the Spotify API\n",
    "\n",
    "I've stored my credentials for the Spotify API in a file called \"keys.json\". I obviously can't show you, but there is an example file in the GitHub repository!"
   ]
  },
  {
   "cell_type": "code",
   "execution_count": 3,
   "id": "8b18ef17-2b0e-4be2-83d3-0ac1802e8301",
   "metadata": {},
   "outputs": [
    {
     "data": {
      "text/plain": [
       "'Chandler'"
      ]
     },
     "execution_count": 3,
     "metadata": {},
     "output_type": "execute_result"
    }
   ],
   "source": [
    "with open('../keys.json') as json_file:\n",
    "    keys = json.load(json_file)\n",
    "    \n",
    "scope = \"\"\n",
    "sp = spotipy.Spotify(\n",
    "  auth_manager=SpotifyOAuth(client_id=keys['spotify']['client_id'],\n",
    "  client_secret=keys['spotify']['secret'],\n",
    "  redirect_uri=keys['spotify']['redirect_uri'],\n",
    "  scope=scope,\n",
    "  open_browser=False)\n",
    ")\n",
    "sp.me()['display_name']"
   ]
  },
  {
   "cell_type": "markdown",
   "id": "a7cd0702-4123-492c-b8bc-f1a9316cdce1",
   "metadata": {},
   "source": [
    "It works! However, getting my name isn't helping us form a network. We need an artist as a starting point, and I know just who to pick..."
   ]
  },
  {
   "cell_type": "code",
   "execution_count": 4,
   "id": "200123b6-0d99-407a-a0e3-0a6994f8a398",
   "metadata": {},
   "outputs": [
    {
     "data": {
      "text/plain": [
       "'00FQb4jTyendYWaN8pK0wa'"
      ]
     },
     "execution_count": 4,
     "metadata": {},
     "output_type": "execute_result"
    }
   ],
   "source": [
    "sp.search(q='artist:Lana Del Rey', type='artist')['artists']['items'][0]['id']"
   ]
  },
  {
   "cell_type": "markdown",
   "id": "63583513-c4c8-4c3a-80c5-fd0da50deae6",
   "metadata": {},
   "source": [
    "Lana Del Rey. No reason other than I'm a huge fan. With that ID we can request her albums."
   ]
  },
  {
   "cell_type": "code",
   "execution_count": 6,
   "id": "83083009-2542-4066-8a7c-ae7aadca0b81",
   "metadata": {},
   "outputs": [
    {
     "name": "stdout",
     "output_type": "stream",
     "text": [
      "Blue Banisters\n",
      "Chemtrails Over The Country Club\n",
      "Norman Fucking Rockwell!\n",
      "Lust For Life\n",
      "Lust For Life\n",
      "Lust For Life\n",
      "Honeymoon\n",
      "Honeymoon\n",
      "Honeymoon\n",
      "Ultraviolence (Deluxe)\n",
      "Ultraviolence\n",
      "Ultraviolence\n",
      "Ultraviolence (Deluxe)\n",
      "Ultraviolence\n",
      "Ultraviolence\n",
      "Ultraviolence\n",
      "Ultraviolence (Deluxe)\n",
      "Ultraviolence\n",
      "Ultraviolence - Audio Commentary\n",
      "Born To Die - The Paradise Edition\n"
     ]
    }
   ],
   "source": [
    "albums = sp.artist_albums('00FQb4jTyendYWaN8pK0wa')['items']\n",
    "for album in albums:\n",
    "    print(album['name'])"
   ]
  },
  {
   "cell_type": "markdown",
   "id": "7967fe42-a608-4449-aee7-9032f0c72eaf",
   "metadata": {},
   "source": [
    "And now we can get every track from every album"
   ]
  },
  {
   "cell_type": "code",
   "execution_count": 7,
   "id": "a1d23474-f087-4229-a5eb-8546ca300e14",
   "metadata": {},
   "outputs": [],
   "source": [
    "all_tracks = []\n",
    "for album in albums:\n",
    "    all_tracks += sp.album_tracks(album['id'])['items']"
   ]
  },
  {
   "cell_type": "markdown",
   "id": "914d22d3-98fe-4ac3-9eb4-fc9f5820028a",
   "metadata": {},
   "source": [
    "The Spotify API returns a list of artists for every track. Let's see who Lana has featured on her songs:"
   ]
  },
  {
   "cell_type": "code",
   "execution_count": 11,
   "id": "46255052-f49f-43c0-aee8-51708c2eef0a",
   "metadata": {},
   "outputs": [
    {
     "name": "stdout",
     "output_type": "stream",
     "text": [
      "Nikki Lane\n",
      "Zella Day\n",
      "Weyes Blood\n",
      "The Weeknd\n",
      "A$AP Rocky\n",
      "Playboi Carti\n",
      "A$AP Rocky\n",
      "Stevie Nicks\n",
      "Sean Ono Lennon\n",
      "The Weeknd\n",
      "A$AP Rocky\n",
      "Playboi Carti\n",
      "A$AP Rocky\n",
      "Stevie Nicks\n",
      "Sean Ono Lennon\n",
      "The Weeknd\n",
      "A$AP Rocky\n",
      "Playboi Carti\n",
      "A$AP Rocky\n",
      "Stevie Nicks\n",
      "Sean Ono Lennon\n",
      "Photek\n"
     ]
    }
   ],
   "source": [
    "for track in all_tracks:\n",
    "    for artist in track['artists']:\n",
    "        if artist['name'] != 'Lana Del Rey':\n",
    "            print(artist['name'])"
   ]
  },
  {
   "cell_type": "markdown",
   "id": "6838a223-762b-4756-b460-2648957ec793",
   "metadata": {},
   "source": [
    "Ok, there are some duplicates, but we can deal with that in the next section. For now, it's enough to know that it's working properly."
   ]
  },
  {
   "cell_type": "markdown",
   "id": "dff59664-0e0c-4c0f-9970-7c1e9f32f77a",
   "metadata": {},
   "source": [
    "## Wrapping it all up into a function\n",
    "\n",
    "This function encapsulates all the work that we've done so far."
   ]
  },
  {
   "cell_type": "code",
   "execution_count": 12,
   "id": "73182548-78d8-4a18-9a1a-a2e33eec6da0",
   "metadata": {},
   "outputs": [],
   "source": [
    "def get_featured_artists(artist_ids):\n",
    "    artists = []\n",
    "    for artist_id in artist_ids:\n",
    "        artist = sp.artist(artist_id)\n",
    "        all_tracks = []\n",
    "        for album in sp.artist_albums(artist_id)['items']:\n",
    "            all_tracks += sp.album_tracks(album['id'])['items']\n",
    "\n",
    "        for track in all_tracks:\n",
    "            for i in range(0, len(track['artists'])):\n",
    "                if track['artists'][i]['id'] != artist['id']:\n",
    "                    artists.append([\n",
    "                        artist['name'], \n",
    "                        artist['id'], \n",
    "                        track['artists'][i]['name'], \n",
    "                        track['artists'][i]['id'],\n",
    "                        track['name'],\n",
    "                        track['id']\n",
    "                    ])\n",
    "                    \n",
    "    return artists"
   ]
  },
  {
   "cell_type": "code",
   "execution_count": 14,
   "id": "b198f26b-da5d-428e-9ebd-ad2b3da1f2c5",
   "metadata": {},
   "outputs": [
    {
     "name": "stdout",
     "output_type": "stream",
     "text": [
      "Lana Del Rey -> Nikki Lane\n",
      "Lana Del Rey -> Zella Day\n",
      "Lana Del Rey -> Weyes Blood\n",
      "Lana Del Rey -> The Weeknd\n",
      "Lana Del Rey -> A$AP Rocky\n",
      "Lana Del Rey -> Playboi Carti\n",
      "Lana Del Rey -> A$AP Rocky\n",
      "Lana Del Rey -> Stevie Nicks\n",
      "Lana Del Rey -> Sean Ono Lennon\n",
      "Lana Del Rey -> The Weeknd\n",
      "Lana Del Rey -> A$AP Rocky\n",
      "Lana Del Rey -> Playboi Carti\n",
      "Lana Del Rey -> A$AP Rocky\n",
      "Lana Del Rey -> Stevie Nicks\n",
      "Lana Del Rey -> Sean Ono Lennon\n",
      "Lana Del Rey -> The Weeknd\n",
      "Lana Del Rey -> A$AP Rocky\n",
      "Lana Del Rey -> Playboi Carti\n",
      "Lana Del Rey -> A$AP Rocky\n",
      "Lana Del Rey -> Stevie Nicks\n",
      "Lana Del Rey -> Sean Ono Lennon\n",
      "Lana Del Rey -> Photek\n"
     ]
    }
   ],
   "source": [
    "artists = get_featured_artists(['00FQb4jTyendYWaN8pK0wa'])\n",
    "for artist in artists:\n",
    "    print(f\"{artist[0]} -> {artist[2]}\")"
   ]
  },
  {
   "cell_type": "markdown",
   "id": "5bbcc0de-57ed-47db-bd04-622edb9a12d3",
   "metadata": {},
   "source": [
    "Fantastic! That takes care of the first layer of the network, but we need more than that to make a cool graphic- we need a function that also gets the network of all of Lana Del Rey's connections. \n",
    "\n",
    "[Recursion](https://www.youtube.com/watch?v=Mv9NEXX1VHc) would be the simplest solution to write. Just recursively call `get_featured_artists` until we reach some stopping condition. However, that poses some problems. Namely, it would duplicate a ton of work. For example, if The Weeknd and A$ap Rocky have any shared connections, we would end up performing the same operation twice. Given how quickly I expect the number of connections to grow, we need a more elegant solution.\n",
    "\n",
    "That's why I wrote this dynamic program that does the same thing, but deletes duplicate entries before proceeding."
   ]
  },
  {
   "cell_type": "code",
   "execution_count": 15,
   "id": "e03aacb3-26a5-410f-ac40-8feb7493197f",
   "metadata": {},
   "outputs": [],
   "source": [
    "def get_network(size, root_artist_id):\n",
    "    network = get_featured_artists([root_artist_id])\n",
    "    next_index = 1\n",
    "    last_index = 0\n",
    "    \n",
    "    for i in range(0, size-1):\n",
    "        next_index = len(network)\n",
    "        network += get_featured_artists(np.unique(np.array([a[3] for a in network[last_index:]])))\n",
    "        last_index = next_index\n",
    "\n",
    "    return network"
   ]
  },
  {
   "cell_type": "code",
   "execution_count": 20,
   "id": "c2944c94-6fed-4892-aeb7-c81fdaa9bad1",
   "metadata": {},
   "outputs": [
    {
     "ename": "KeyboardInterrupt",
     "evalue": "",
     "output_type": "error",
     "traceback": [
      "\u001b[0;31m---------------------------------------------------------------------------\u001b[0m",
      "\u001b[0;31mKeyboardInterrupt\u001b[0m                         Traceback (most recent call last)",
      "\u001b[0;32m/tmp/ipykernel_4774/1154817594.py\u001b[0m in \u001b[0;36m<module>\u001b[0;34m\u001b[0m\n\u001b[0;32m----> 1\u001b[0;31m \u001b[0mresult\u001b[0m \u001b[0;34m=\u001b[0m \u001b[0mget_network\u001b[0m\u001b[0;34m(\u001b[0m\u001b[0;36m3\u001b[0m\u001b[0;34m,\u001b[0m \u001b[0;34m'00FQb4jTyendYWaN8pK0wa'\u001b[0m\u001b[0;34m)\u001b[0m\u001b[0;34m\u001b[0m\u001b[0;34m\u001b[0m\u001b[0m\n\u001b[0m\u001b[1;32m      2\u001b[0m \u001b[0mprint\u001b[0m\u001b[0;34m(\u001b[0m\u001b[0mlen\u001b[0m\u001b[0;34m(\u001b[0m\u001b[0mresult\u001b[0m\u001b[0;34m)\u001b[0m\u001b[0;34m)\u001b[0m\u001b[0;34m\u001b[0m\u001b[0;34m\u001b[0m\u001b[0m\n",
      "\u001b[0;32m/tmp/ipykernel_4774/1884940932.py\u001b[0m in \u001b[0;36mget_network\u001b[0;34m(size, root_artist_id)\u001b[0m\n\u001b[1;32m      1\u001b[0m \u001b[0;32mdef\u001b[0m \u001b[0mget_network\u001b[0m\u001b[0;34m(\u001b[0m\u001b[0msize\u001b[0m\u001b[0;34m,\u001b[0m \u001b[0mroot_artist_id\u001b[0m\u001b[0;34m)\u001b[0m\u001b[0;34m:\u001b[0m\u001b[0;34m\u001b[0m\u001b[0;34m\u001b[0m\u001b[0m\n\u001b[0;32m----> 2\u001b[0;31m     \u001b[0mnetwork\u001b[0m \u001b[0;34m=\u001b[0m \u001b[0mget_featured_artists\u001b[0m\u001b[0;34m(\u001b[0m\u001b[0;34m[\u001b[0m\u001b[0mroot_artist_id\u001b[0m\u001b[0;34m]\u001b[0m\u001b[0;34m)\u001b[0m\u001b[0;34m\u001b[0m\u001b[0;34m\u001b[0m\u001b[0m\n\u001b[0m\u001b[1;32m      3\u001b[0m     \u001b[0mnext_index\u001b[0m \u001b[0;34m=\u001b[0m \u001b[0;36m1\u001b[0m\u001b[0;34m\u001b[0m\u001b[0;34m\u001b[0m\u001b[0m\n\u001b[1;32m      4\u001b[0m     \u001b[0mlast_index\u001b[0m \u001b[0;34m=\u001b[0m \u001b[0;36m0\u001b[0m\u001b[0;34m\u001b[0m\u001b[0;34m\u001b[0m\u001b[0m\n\u001b[1;32m      5\u001b[0m \u001b[0;34m\u001b[0m\u001b[0m\n",
      "\u001b[0;32m/tmp/ipykernel_4774/2068222382.py\u001b[0m in \u001b[0;36mget_featured_artists\u001b[0;34m(artist_ids)\u001b[0m\n\u001b[1;32m      2\u001b[0m     \u001b[0martists\u001b[0m \u001b[0;34m=\u001b[0m \u001b[0;34m[\u001b[0m\u001b[0;34m]\u001b[0m\u001b[0;34m\u001b[0m\u001b[0;34m\u001b[0m\u001b[0m\n\u001b[1;32m      3\u001b[0m     \u001b[0;32mfor\u001b[0m \u001b[0martist_id\u001b[0m \u001b[0;32min\u001b[0m \u001b[0martist_ids\u001b[0m\u001b[0;34m:\u001b[0m\u001b[0;34m\u001b[0m\u001b[0;34m\u001b[0m\u001b[0m\n\u001b[0;32m----> 4\u001b[0;31m         \u001b[0martist\u001b[0m \u001b[0;34m=\u001b[0m \u001b[0msp\u001b[0m\u001b[0;34m.\u001b[0m\u001b[0martist\u001b[0m\u001b[0;34m(\u001b[0m\u001b[0martist_id\u001b[0m\u001b[0;34m)\u001b[0m\u001b[0;34m\u001b[0m\u001b[0;34m\u001b[0m\u001b[0m\n\u001b[0m\u001b[1;32m      5\u001b[0m         \u001b[0mall_tracks\u001b[0m \u001b[0;34m=\u001b[0m \u001b[0;34m[\u001b[0m\u001b[0;34m]\u001b[0m\u001b[0;34m\u001b[0m\u001b[0;34m\u001b[0m\u001b[0m\n\u001b[1;32m      6\u001b[0m         \u001b[0;32mfor\u001b[0m \u001b[0malbum\u001b[0m \u001b[0;32min\u001b[0m \u001b[0msp\u001b[0m\u001b[0;34m.\u001b[0m\u001b[0martist_albums\u001b[0m\u001b[0;34m(\u001b[0m\u001b[0martist_id\u001b[0m\u001b[0;34m)\u001b[0m\u001b[0;34m[\u001b[0m\u001b[0;34m'items'\u001b[0m\u001b[0;34m]\u001b[0m\u001b[0;34m:\u001b[0m\u001b[0;34m\u001b[0m\u001b[0;34m\u001b[0m\u001b[0m\n",
      "\u001b[0;32m/opt/conda/lib/python3.7/site-packages/spotipy/client.py\u001b[0m in \u001b[0;36martist\u001b[0;34m(self, artist_id)\u001b[0m\n\u001b[1;32m    364\u001b[0m \u001b[0;34m\u001b[0m\u001b[0m\n\u001b[1;32m    365\u001b[0m         \u001b[0mtrid\u001b[0m \u001b[0;34m=\u001b[0m \u001b[0mself\u001b[0m\u001b[0;34m.\u001b[0m\u001b[0m_get_id\u001b[0m\u001b[0;34m(\u001b[0m\u001b[0;34m\"artist\"\u001b[0m\u001b[0;34m,\u001b[0m \u001b[0martist_id\u001b[0m\u001b[0;34m)\u001b[0m\u001b[0;34m\u001b[0m\u001b[0;34m\u001b[0m\u001b[0m\n\u001b[0;32m--> 366\u001b[0;31m         \u001b[0;32mreturn\u001b[0m \u001b[0mself\u001b[0m\u001b[0;34m.\u001b[0m\u001b[0m_get\u001b[0m\u001b[0;34m(\u001b[0m\u001b[0;34m\"artists/\"\u001b[0m \u001b[0;34m+\u001b[0m \u001b[0mtrid\u001b[0m\u001b[0;34m)\u001b[0m\u001b[0;34m\u001b[0m\u001b[0;34m\u001b[0m\u001b[0m\n\u001b[0m\u001b[1;32m    367\u001b[0m \u001b[0;34m\u001b[0m\u001b[0m\n\u001b[1;32m    368\u001b[0m     \u001b[0;32mdef\u001b[0m \u001b[0martists\u001b[0m\u001b[0;34m(\u001b[0m\u001b[0mself\u001b[0m\u001b[0;34m,\u001b[0m \u001b[0martists\u001b[0m\u001b[0;34m)\u001b[0m\u001b[0;34m:\u001b[0m\u001b[0;34m\u001b[0m\u001b[0;34m\u001b[0m\u001b[0m\n",
      "\u001b[0;32m/opt/conda/lib/python3.7/site-packages/spotipy/client.py\u001b[0m in \u001b[0;36m_get\u001b[0;34m(self, url, args, payload, **kwargs)\u001b[0m\n\u001b[1;32m    295\u001b[0m             \u001b[0mkwargs\u001b[0m\u001b[0;34m.\u001b[0m\u001b[0mupdate\u001b[0m\u001b[0;34m(\u001b[0m\u001b[0margs\u001b[0m\u001b[0;34m)\u001b[0m\u001b[0;34m\u001b[0m\u001b[0;34m\u001b[0m\u001b[0m\n\u001b[1;32m    296\u001b[0m \u001b[0;34m\u001b[0m\u001b[0m\n\u001b[0;32m--> 297\u001b[0;31m         \u001b[0;32mreturn\u001b[0m \u001b[0mself\u001b[0m\u001b[0;34m.\u001b[0m\u001b[0m_internal_call\u001b[0m\u001b[0;34m(\u001b[0m\u001b[0;34m\"GET\"\u001b[0m\u001b[0;34m,\u001b[0m \u001b[0murl\u001b[0m\u001b[0;34m,\u001b[0m \u001b[0mpayload\u001b[0m\u001b[0;34m,\u001b[0m \u001b[0mkwargs\u001b[0m\u001b[0;34m)\u001b[0m\u001b[0;34m\u001b[0m\u001b[0;34m\u001b[0m\u001b[0m\n\u001b[0m\u001b[1;32m    298\u001b[0m \u001b[0;34m\u001b[0m\u001b[0m\n\u001b[1;32m    299\u001b[0m     \u001b[0;32mdef\u001b[0m \u001b[0m_post\u001b[0m\u001b[0;34m(\u001b[0m\u001b[0mself\u001b[0m\u001b[0;34m,\u001b[0m \u001b[0murl\u001b[0m\u001b[0;34m,\u001b[0m \u001b[0margs\u001b[0m\u001b[0;34m=\u001b[0m\u001b[0;32mNone\u001b[0m\u001b[0;34m,\u001b[0m \u001b[0mpayload\u001b[0m\u001b[0;34m=\u001b[0m\u001b[0;32mNone\u001b[0m\u001b[0;34m,\u001b[0m \u001b[0;34m**\u001b[0m\u001b[0mkwargs\u001b[0m\u001b[0;34m)\u001b[0m\u001b[0;34m:\u001b[0m\u001b[0;34m\u001b[0m\u001b[0;34m\u001b[0m\u001b[0m\n",
      "\u001b[0;32m/opt/conda/lib/python3.7/site-packages/spotipy/client.py\u001b[0m in \u001b[0;36m_internal_call\u001b[0;34m(self, method, url, payload, params)\u001b[0m\n\u001b[1;32m    240\u001b[0m             response = self._session.request(\n\u001b[1;32m    241\u001b[0m                 \u001b[0mmethod\u001b[0m\u001b[0;34m,\u001b[0m \u001b[0murl\u001b[0m\u001b[0;34m,\u001b[0m \u001b[0mheaders\u001b[0m\u001b[0;34m=\u001b[0m\u001b[0mheaders\u001b[0m\u001b[0;34m,\u001b[0m \u001b[0mproxies\u001b[0m\u001b[0;34m=\u001b[0m\u001b[0mself\u001b[0m\u001b[0;34m.\u001b[0m\u001b[0mproxies\u001b[0m\u001b[0;34m,\u001b[0m\u001b[0;34m\u001b[0m\u001b[0;34m\u001b[0m\u001b[0m\n\u001b[0;32m--> 242\u001b[0;31m                 \u001b[0mtimeout\u001b[0m\u001b[0;34m=\u001b[0m\u001b[0mself\u001b[0m\u001b[0;34m.\u001b[0m\u001b[0mrequests_timeout\u001b[0m\u001b[0;34m,\u001b[0m \u001b[0;34m**\u001b[0m\u001b[0margs\u001b[0m\u001b[0;34m\u001b[0m\u001b[0;34m\u001b[0m\u001b[0m\n\u001b[0m\u001b[1;32m    243\u001b[0m             )\n\u001b[1;32m    244\u001b[0m \u001b[0;34m\u001b[0m\u001b[0m\n",
      "\u001b[0;32m/opt/conda/lib/python3.7/site-packages/requests/sessions.py\u001b[0m in \u001b[0;36mrequest\u001b[0;34m(self, method, url, params, data, headers, cookies, files, auth, timeout, allow_redirects, proxies, hooks, stream, verify, cert, json)\u001b[0m\n\u001b[1;32m    540\u001b[0m         }\n\u001b[1;32m    541\u001b[0m         \u001b[0msend_kwargs\u001b[0m\u001b[0;34m.\u001b[0m\u001b[0mupdate\u001b[0m\u001b[0;34m(\u001b[0m\u001b[0msettings\u001b[0m\u001b[0;34m)\u001b[0m\u001b[0;34m\u001b[0m\u001b[0;34m\u001b[0m\u001b[0m\n\u001b[0;32m--> 542\u001b[0;31m         \u001b[0mresp\u001b[0m \u001b[0;34m=\u001b[0m \u001b[0mself\u001b[0m\u001b[0;34m.\u001b[0m\u001b[0msend\u001b[0m\u001b[0;34m(\u001b[0m\u001b[0mprep\u001b[0m\u001b[0;34m,\u001b[0m \u001b[0;34m**\u001b[0m\u001b[0msend_kwargs\u001b[0m\u001b[0;34m)\u001b[0m\u001b[0;34m\u001b[0m\u001b[0;34m\u001b[0m\u001b[0m\n\u001b[0m\u001b[1;32m    543\u001b[0m \u001b[0;34m\u001b[0m\u001b[0m\n\u001b[1;32m    544\u001b[0m         \u001b[0;32mreturn\u001b[0m \u001b[0mresp\u001b[0m\u001b[0;34m\u001b[0m\u001b[0;34m\u001b[0m\u001b[0m\n",
      "\u001b[0;32m/opt/conda/lib/python3.7/site-packages/requests/sessions.py\u001b[0m in \u001b[0;36msend\u001b[0;34m(self, request, **kwargs)\u001b[0m\n\u001b[1;32m    653\u001b[0m \u001b[0;34m\u001b[0m\u001b[0m\n\u001b[1;32m    654\u001b[0m         \u001b[0;31m# Send the request\u001b[0m\u001b[0;34m\u001b[0m\u001b[0;34m\u001b[0m\u001b[0;34m\u001b[0m\u001b[0m\n\u001b[0;32m--> 655\u001b[0;31m         \u001b[0mr\u001b[0m \u001b[0;34m=\u001b[0m \u001b[0madapter\u001b[0m\u001b[0;34m.\u001b[0m\u001b[0msend\u001b[0m\u001b[0;34m(\u001b[0m\u001b[0mrequest\u001b[0m\u001b[0;34m,\u001b[0m \u001b[0;34m**\u001b[0m\u001b[0mkwargs\u001b[0m\u001b[0;34m)\u001b[0m\u001b[0;34m\u001b[0m\u001b[0;34m\u001b[0m\u001b[0m\n\u001b[0m\u001b[1;32m    656\u001b[0m \u001b[0;34m\u001b[0m\u001b[0m\n\u001b[1;32m    657\u001b[0m         \u001b[0;31m# Total elapsed time of the request (approximately)\u001b[0m\u001b[0;34m\u001b[0m\u001b[0;34m\u001b[0m\u001b[0;34m\u001b[0m\u001b[0m\n",
      "\u001b[0;32m/opt/conda/lib/python3.7/site-packages/requests/adapters.py\u001b[0m in \u001b[0;36msend\u001b[0;34m(self, request, stream, timeout, verify, cert, proxies)\u001b[0m\n\u001b[1;32m    447\u001b[0m                     \u001b[0mdecode_content\u001b[0m\u001b[0;34m=\u001b[0m\u001b[0;32mFalse\u001b[0m\u001b[0;34m,\u001b[0m\u001b[0;34m\u001b[0m\u001b[0;34m\u001b[0m\u001b[0m\n\u001b[1;32m    448\u001b[0m                     \u001b[0mretries\u001b[0m\u001b[0;34m=\u001b[0m\u001b[0mself\u001b[0m\u001b[0;34m.\u001b[0m\u001b[0mmax_retries\u001b[0m\u001b[0;34m,\u001b[0m\u001b[0;34m\u001b[0m\u001b[0;34m\u001b[0m\u001b[0m\n\u001b[0;32m--> 449\u001b[0;31m                     \u001b[0mtimeout\u001b[0m\u001b[0;34m=\u001b[0m\u001b[0mtimeout\u001b[0m\u001b[0;34m\u001b[0m\u001b[0;34m\u001b[0m\u001b[0m\n\u001b[0m\u001b[1;32m    450\u001b[0m                 )\n\u001b[1;32m    451\u001b[0m \u001b[0;34m\u001b[0m\u001b[0m\n",
      "\u001b[0;32m/opt/conda/lib/python3.7/site-packages/urllib3/connectionpool.py\u001b[0m in \u001b[0;36murlopen\u001b[0;34m(self, method, url, body, headers, retries, redirect, assert_same_host, timeout, pool_timeout, release_conn, chunked, body_pos, **response_kw)\u001b[0m\n\u001b[1;32m    842\u001b[0m \u001b[0;34m\u001b[0m\u001b[0m\n\u001b[1;32m    843\u001b[0m             \u001b[0mresponse\u001b[0m\u001b[0;34m.\u001b[0m\u001b[0mdrain_conn\u001b[0m\u001b[0;34m(\u001b[0m\u001b[0;34m)\u001b[0m\u001b[0;34m\u001b[0m\u001b[0;34m\u001b[0m\u001b[0m\n\u001b[0;32m--> 844\u001b[0;31m             \u001b[0mretries\u001b[0m\u001b[0;34m.\u001b[0m\u001b[0msleep\u001b[0m\u001b[0;34m(\u001b[0m\u001b[0mresponse\u001b[0m\u001b[0;34m)\u001b[0m\u001b[0;34m\u001b[0m\u001b[0;34m\u001b[0m\u001b[0m\n\u001b[0m\u001b[1;32m    845\u001b[0m             \u001b[0mlog\u001b[0m\u001b[0;34m.\u001b[0m\u001b[0mdebug\u001b[0m\u001b[0;34m(\u001b[0m\u001b[0;34m\"Retry: %s\"\u001b[0m\u001b[0;34m,\u001b[0m \u001b[0murl\u001b[0m\u001b[0;34m)\u001b[0m\u001b[0;34m\u001b[0m\u001b[0;34m\u001b[0m\u001b[0m\n\u001b[1;32m    846\u001b[0m             return self.urlopen(\n",
      "\u001b[0;32m/opt/conda/lib/python3.7/site-packages/urllib3/util/retry.py\u001b[0m in \u001b[0;36msleep\u001b[0;34m(self, response)\u001b[0m\n\u001b[1;32m    408\u001b[0m \u001b[0;34m\u001b[0m\u001b[0m\n\u001b[1;32m    409\u001b[0m         \u001b[0;32mif\u001b[0m \u001b[0mself\u001b[0m\u001b[0;34m.\u001b[0m\u001b[0mrespect_retry_after_header\u001b[0m \u001b[0;32mand\u001b[0m \u001b[0mresponse\u001b[0m\u001b[0;34m:\u001b[0m\u001b[0;34m\u001b[0m\u001b[0;34m\u001b[0m\u001b[0m\n\u001b[0;32m--> 410\u001b[0;31m             \u001b[0mslept\u001b[0m \u001b[0;34m=\u001b[0m \u001b[0mself\u001b[0m\u001b[0;34m.\u001b[0m\u001b[0msleep_for_retry\u001b[0m\u001b[0;34m(\u001b[0m\u001b[0mresponse\u001b[0m\u001b[0;34m)\u001b[0m\u001b[0;34m\u001b[0m\u001b[0;34m\u001b[0m\u001b[0m\n\u001b[0m\u001b[1;32m    411\u001b[0m             \u001b[0;32mif\u001b[0m \u001b[0mslept\u001b[0m\u001b[0;34m:\u001b[0m\u001b[0;34m\u001b[0m\u001b[0;34m\u001b[0m\u001b[0m\n\u001b[1;32m    412\u001b[0m                 \u001b[0;32mreturn\u001b[0m\u001b[0;34m\u001b[0m\u001b[0;34m\u001b[0m\u001b[0m\n",
      "\u001b[0;32m/opt/conda/lib/python3.7/site-packages/urllib3/util/retry.py\u001b[0m in \u001b[0;36msleep_for_retry\u001b[0;34m(self, response)\u001b[0m\n\u001b[1;32m    387\u001b[0m         \u001b[0mretry_after\u001b[0m \u001b[0;34m=\u001b[0m \u001b[0mself\u001b[0m\u001b[0;34m.\u001b[0m\u001b[0mget_retry_after\u001b[0m\u001b[0;34m(\u001b[0m\u001b[0mresponse\u001b[0m\u001b[0;34m)\u001b[0m\u001b[0;34m\u001b[0m\u001b[0;34m\u001b[0m\u001b[0m\n\u001b[1;32m    388\u001b[0m         \u001b[0;32mif\u001b[0m \u001b[0mretry_after\u001b[0m\u001b[0;34m:\u001b[0m\u001b[0;34m\u001b[0m\u001b[0;34m\u001b[0m\u001b[0m\n\u001b[0;32m--> 389\u001b[0;31m             \u001b[0mtime\u001b[0m\u001b[0;34m.\u001b[0m\u001b[0msleep\u001b[0m\u001b[0;34m(\u001b[0m\u001b[0mretry_after\u001b[0m\u001b[0;34m)\u001b[0m\u001b[0;34m\u001b[0m\u001b[0;34m\u001b[0m\u001b[0m\n\u001b[0m\u001b[1;32m    390\u001b[0m             \u001b[0;32mreturn\u001b[0m \u001b[0;32mTrue\u001b[0m\u001b[0;34m\u001b[0m\u001b[0;34m\u001b[0m\u001b[0m\n\u001b[1;32m    391\u001b[0m \u001b[0;34m\u001b[0m\u001b[0m\n",
      "\u001b[0;31mKeyboardInterrupt\u001b[0m: "
     ]
    }
   ],
   "source": [
    "result = get_network(3, '00FQb4jTyendYWaN8pK0wa')\n",
    "print(len(result))"
   ]
  },
  {
   "cell_type": "markdown",
   "id": "2e9e3a7e-8e8d-4723-b4ae-a0c4942715eb",
   "metadata": {},
   "source": [
    "74,521 entries. That's way more than I expected. But, I bet there are some duplicates. I know for a fact that most music labels put out multiple versions of an album and I know that the function I wrote doesn't account for two artists connecting on multiple songs. \n",
    "\n",
    "Therefore, we'll need to clean the data to see how many connections are actually present."
   ]
  },
  {
   "cell_type": "code",
   "execution_count": null,
   "id": "1cfa47e8-089a-414c-acf7-dc7d35fe4a94",
   "metadata": {},
   "outputs": [],
   "source": [
    "df = pd.DataFrame(result)\n",
    "df.columns = [\n",
    "    'primary_artist',\n",
    "    'primary_artist_id',\n",
    "    'featured_artist',\n",
    "    'featured_artist_id',\n",
    "    'track',\n",
    "    'track_id'\n",
    "]\n",
    "df['unique_id'] = df.apply(lambda t: t.primary_artist_id + t.featured_artist_id, axis=1)\n",
    "df['track'] = df.groupby('unique_id').track.transform(lambda q: \"|\".join(np.unique(np.array(q))))\n",
    "df['track_id'] = df.groupby('unique_id').track_id.transform(lambda q: \"|\".join(np.unique(np.array(q))))\n",
    "print(df.drop_duplicates(['unique_id']).shape)"
   ]
  },
  {
   "cell_type": "markdown",
   "id": "3fb9abe6-9ee9-466d-a683-fe80a7295864",
   "metadata": {},
   "source": [
    "24,776 entries seems more reasonable. Now, I'm going to save this dataframe to a csv file so I don't have to go through this whole process twice."
   ]
  },
  {
   "cell_type": "code",
   "execution_count": null,
   "id": "883c514a-3bd9-45b0-91b6-f66cb37e00b9",
   "metadata": {},
   "outputs": [],
   "source": [
    "df.drop_duplicates(['unique_id']).to_csv(\"lana_3.csv\", index=False)"
   ]
  },
  {
   "cell_type": "markdown",
   "id": "26dee200-7ea8-460b-b1f6-9744e2a55f9d",
   "metadata": {},
   "source": [
    "## Playing with the network"
   ]
  },
  {
   "cell_type": "code",
   "execution_count": 22,
   "id": "35b7a3bb-bbe7-475c-8161-c8b5f476f72d",
   "metadata": {},
   "outputs": [
    {
     "data": {
      "text/html": [
       "<div>\n",
       "<style scoped>\n",
       "    .dataframe tbody tr th:only-of-type {\n",
       "        vertical-align: middle;\n",
       "    }\n",
       "\n",
       "    .dataframe tbody tr th {\n",
       "        vertical-align: top;\n",
       "    }\n",
       "\n",
       "    .dataframe thead th {\n",
       "        text-align: right;\n",
       "    }\n",
       "</style>\n",
       "<table border=\"1\" class=\"dataframe\">\n",
       "  <thead>\n",
       "    <tr style=\"text-align: right;\">\n",
       "      <th></th>\n",
       "      <th>primary_artist</th>\n",
       "      <th>primary_artist_id</th>\n",
       "      <th>featured_artist</th>\n",
       "      <th>featured_artist_id</th>\n",
       "      <th>track</th>\n",
       "      <th>track_id</th>\n",
       "      <th>unique_id</th>\n",
       "    </tr>\n",
       "  </thead>\n",
       "  <tbody>\n",
       "    <tr>\n",
       "      <th>0</th>\n",
       "      <td>Lana Del Rey</td>\n",
       "      <td>00FQb4jTyendYWaN8pK0wa</td>\n",
       "      <td>Nikki Lane</td>\n",
       "      <td>2kWeFaiHBskk8oqky3KHcR</td>\n",
       "      <td>Breaking Up Slowly</td>\n",
       "      <td>1hn1kCOG5dm1XgZYKpfaLR</td>\n",
       "      <td>00FQb4jTyendYWaN8pK0wa2kWeFaiHBskk8oqky3KHcR</td>\n",
       "    </tr>\n",
       "    <tr>\n",
       "      <th>1</th>\n",
       "      <td>Lana Del Rey</td>\n",
       "      <td>00FQb4jTyendYWaN8pK0wa</td>\n",
       "      <td>Zella Day</td>\n",
       "      <td>100sLnojEpcadRx4edEBA6</td>\n",
       "      <td>For Free</td>\n",
       "      <td>2lhfd0CF0dFlwRVH8NG8vv</td>\n",
       "      <td>00FQb4jTyendYWaN8pK0wa100sLnojEpcadRx4edEBA6</td>\n",
       "    </tr>\n",
       "    <tr>\n",
       "      <th>2</th>\n",
       "      <td>Lana Del Rey</td>\n",
       "      <td>00FQb4jTyendYWaN8pK0wa</td>\n",
       "      <td>Weyes Blood</td>\n",
       "      <td>3Uqu1mEdkUJxPe7s31n1M9</td>\n",
       "      <td>For Free</td>\n",
       "      <td>2lhfd0CF0dFlwRVH8NG8vv</td>\n",
       "      <td>00FQb4jTyendYWaN8pK0wa3Uqu1mEdkUJxPe7s31n1M9</td>\n",
       "    </tr>\n",
       "    <tr>\n",
       "      <th>3</th>\n",
       "      <td>Lana Del Rey</td>\n",
       "      <td>00FQb4jTyendYWaN8pK0wa</td>\n",
       "      <td>The Weeknd</td>\n",
       "      <td>1Xyo4u8uXC1ZmMpatF05PJ</td>\n",
       "      <td>Lust For Life (with The Weeknd)</td>\n",
       "      <td>0mt02gJ425Xjm7c3jYkOBn|2KzCkzW1nt8qGHjYoTWGlc|...</td>\n",
       "      <td>00FQb4jTyendYWaN8pK0wa1Xyo4u8uXC1ZmMpatF05PJ</td>\n",
       "    </tr>\n",
       "    <tr>\n",
       "      <th>4</th>\n",
       "      <td>Lana Del Rey</td>\n",
       "      <td>00FQb4jTyendYWaN8pK0wa</td>\n",
       "      <td>A$AP Rocky</td>\n",
       "      <td>13ubrt8QOOCPljQ2FL1Kca</td>\n",
       "      <td>Groupie Love (feat. A$AP Rocky)|Summer Bummer ...</td>\n",
       "      <td>03hqMhmCZiNKMSPmVabPLP|2LYIQ9DuoE92bTfXDOwRiM|...</td>\n",
       "      <td>00FQb4jTyendYWaN8pK0wa13ubrt8QOOCPljQ2FL1Kca</td>\n",
       "    </tr>\n",
       "  </tbody>\n",
       "</table>\n",
       "</div>"
      ],
      "text/plain": [
       "  primary_artist       primary_artist_id featured_artist  \\\n",
       "0   Lana Del Rey  00FQb4jTyendYWaN8pK0wa      Nikki Lane   \n",
       "1   Lana Del Rey  00FQb4jTyendYWaN8pK0wa       Zella Day   \n",
       "2   Lana Del Rey  00FQb4jTyendYWaN8pK0wa     Weyes Blood   \n",
       "3   Lana Del Rey  00FQb4jTyendYWaN8pK0wa      The Weeknd   \n",
       "4   Lana Del Rey  00FQb4jTyendYWaN8pK0wa      A$AP Rocky   \n",
       "\n",
       "       featured_artist_id                                              track  \\\n",
       "0  2kWeFaiHBskk8oqky3KHcR                                 Breaking Up Slowly   \n",
       "1  100sLnojEpcadRx4edEBA6                                           For Free   \n",
       "2  3Uqu1mEdkUJxPe7s31n1M9                                           For Free   \n",
       "3  1Xyo4u8uXC1ZmMpatF05PJ                    Lust For Life (with The Weeknd)   \n",
       "4  13ubrt8QOOCPljQ2FL1Kca  Groupie Love (feat. A$AP Rocky)|Summer Bummer ...   \n",
       "\n",
       "                                            track_id  \\\n",
       "0                             1hn1kCOG5dm1XgZYKpfaLR   \n",
       "1                             2lhfd0CF0dFlwRVH8NG8vv   \n",
       "2                             2lhfd0CF0dFlwRVH8NG8vv   \n",
       "3  0mt02gJ425Xjm7c3jYkOBn|2KzCkzW1nt8qGHjYoTWGlc|...   \n",
       "4  03hqMhmCZiNKMSPmVabPLP|2LYIQ9DuoE92bTfXDOwRiM|...   \n",
       "\n",
       "                                      unique_id  \n",
       "0  00FQb4jTyendYWaN8pK0wa2kWeFaiHBskk8oqky3KHcR  \n",
       "1  00FQb4jTyendYWaN8pK0wa100sLnojEpcadRx4edEBA6  \n",
       "2  00FQb4jTyendYWaN8pK0wa3Uqu1mEdkUJxPe7s31n1M9  \n",
       "3  00FQb4jTyendYWaN8pK0wa1Xyo4u8uXC1ZmMpatF05PJ  \n",
       "4  00FQb4jTyendYWaN8pK0wa13ubrt8QOOCPljQ2FL1Kca  "
      ]
     },
     "execution_count": 22,
     "metadata": {},
     "output_type": "execute_result"
    }
   ],
   "source": [
    "depth_3 = pd.read_csv('lana_3.csv')\n",
    "depth_3.head()"
   ]
  },
  {
   "cell_type": "markdown",
   "id": "5dfef426-022e-490f-a060-701b9f74c5a5",
   "metadata": {},
   "source": [
    "First, I want to add a column with the number of songs that the artists share. This should be simple given the cleaning work that I already did."
   ]
  },
  {
   "cell_type": "code",
   "execution_count": 23,
   "id": "568557ff-6d4e-4ed4-9633-ec24257dc856",
   "metadata": {},
   "outputs": [
    {
     "data": {
      "text/plain": [
       "count    24776.000000\n",
       "mean         1.990111\n",
       "std          4.291406\n",
       "min          1.000000\n",
       "25%          1.000000\n",
       "50%          1.000000\n",
       "75%          2.000000\n",
       "max        132.000000\n",
       "Name: songs, dtype: float64"
      ]
     },
     "execution_count": 23,
     "metadata": {},
     "output_type": "execute_result"
    }
   ],
   "source": [
    "depth_3['songs'] = depth_3.track.map(lambda t: len(t.split(\"|\")))\n",
    "depth_3.songs.describe()"
   ]
  },
  {
   "cell_type": "markdown",
   "id": "7ac3b8f9-5fec-483f-b784-70bef38089a3",
   "metadata": {},
   "source": [
    "132 songs... no idea what's going on there but for now I want to push on!"
   ]
  },
  {
   "cell_type": "markdown",
   "id": "c5fc16a2-162c-4165-96e6-9ec5eadcd2bd",
   "metadata": {},
   "source": [
    "## Visualizing the graph\n",
    "\n",
    "First, I ran into a problem with names like 'Joey Bada$$'. The HTML that I plan on generating needs the html code for '$'"
   ]
  },
  {
   "cell_type": "code",
   "execution_count": 25,
   "id": "73b3f1c3-7791-4631-8663-5d8d655b4759",
   "metadata": {},
   "outputs": [
    {
     "data": {
      "text/plain": [
       "'A&#36;AP Rocky'"
      ]
     },
     "execution_count": 25,
     "metadata": {},
     "output_type": "execute_result"
    }
   ],
   "source": [
    "depth_3.featured_artist = depth_3.featured_artist.map(lambda r: r.replace(\"$\", \"&#36;\"))\n",
    "depth_3.primary_artist = depth_3.primary_artist.map(lambda r: r.replace(\"$\", \"&#36;\"))\n",
    "depth_3.iloc[4].featured_artist"
   ]
  },
  {
   "cell_type": "markdown",
   "id": "a94bf033-7c5d-45a8-a1d0-5cb1a4ddc46c",
   "metadata": {},
   "source": [
    "I want the edges to be undirected. I might be able to gain more insights from a directed network, but for the purposes of visualizing who has worked with whom the directionality isn't important."
   ]
  },
  {
   "cell_type": "code",
   "execution_count": 26,
   "id": "316c8ce2-8ee6-42bf-9c63-1f603e7794f7",
   "metadata": {},
   "outputs": [],
   "source": [
    "def add_undirected_edge(graph, node_1, node_2, songs):\n",
    "    graph.add_edge(\n",
    "        node_1, \n",
    "        node_2, \n",
    "        songs=songs\n",
    "    )\n",
    "        \n",
    "    graph.add_edge(\n",
    "        node_2, \n",
    "        node_1, \n",
    "        songs=songs\n",
    "    )"
   ]
  },
  {
   "cell_type": "markdown",
   "id": "b1b53857-3ccb-4e44-9f26-4f86515f3875",
   "metadata": {},
   "source": [
    "Adding the nodes and edges!"
   ]
  },
  {
   "cell_type": "code",
   "execution_count": 27,
   "id": "a8ad8a4b-a209-4538-b64c-ef1d6f0a4f78",
   "metadata": {},
   "outputs": [],
   "source": [
    "graph = nx.Graph()\n",
    "_ = depth_3.apply(lambda e: graph.add_node(e.featured_artist), \n",
    "                  axis=1)\n",
    "_ = depth_3.apply(lambda y: \n",
    "                  add_undirected_edge(\n",
    "                      graph,\n",
    "                      y.primary_artist, \n",
    "                      y.featured_artist, \n",
    "                      songs=y.songs\n",
    "                  ), \n",
    "                  axis=1)"
   ]
  },
  {
   "cell_type": "markdown",
   "id": "c3c91fc1-ffda-4893-a5d9-9ff299eb9515",
   "metadata": {},
   "source": [
    "The last piece of information I need is the \"closeness\" of each artist to Lana Del Rey."
   ]
  },
  {
   "cell_type": "code",
   "execution_count": 40,
   "id": "11cf2860-606f-4d05-b9a7-26fde50f5bfe",
   "metadata": {},
   "outputs": [
    {
     "data": {
      "text/plain": [
       "count    24776.000000\n",
       "mean         2.475218\n",
       "std          0.532184\n",
       "min          0.000000\n",
       "25%          2.000000\n",
       "50%          2.000000\n",
       "75%          3.000000\n",
       "max          3.000000\n",
       "Name: closeness, dtype: float64"
      ]
     },
     "execution_count": 40,
     "metadata": {},
     "output_type": "execute_result"
    }
   ],
   "source": [
    "paths = dict(nx.shortest_path_length(graph, source='Lana Del Rey'))\n",
    "depth_3['closeness'] = depth_3.featured_artist.map(lambda t: paths[t])\n",
    "depth_3.closeness.describe()"
   ]
  },
  {
   "cell_type": "markdown",
   "id": "4993e50f-40a2-450c-9b63-ad5d68dd2e99",
   "metadata": {},
   "source": [
    "### Selecting a layout\n",
    "\n",
    "There are 10,000 nodes. I can't place them by hand. Luckily, there are a few algorithms out there specifically for designing a network visualization layout! I'm using a spring layout, but I would engourage your to try [different layouts](https://networkx.org/documentation/stable/reference/drawing.html#module-networkx.drawing.layout)."
   ]
  },
  {
   "cell_type": "code",
   "execution_count": 41,
   "id": "c15e1919-08f4-41d8-912e-0c1959f0e866",
   "metadata": {},
   "outputs": [
    {
     "data": {
      "text/plain": [
       "array([-0.21876849, -0.16519715])"
      ]
     },
     "execution_count": 41,
     "metadata": {},
     "output_type": "execute_result"
    }
   ],
   "source": [
    "node_positions = nx.spring_layout(graph, scale=2)\n",
    "node_positions['Lana Del Rey']"
   ]
  },
  {
   "cell_type": "markdown",
   "id": "f74a7ec0-23ce-4192-b302-6970757f65db",
   "metadata": {},
   "source": [
    "With the nodes positioned we'll start by drawing the lines. This step consists of creating a scatterplot, with mode=lines, for each edge. "
   ]
  },
  {
   "cell_type": "code",
   "execution_count": 48,
   "id": "2275f44b-df31-4d8f-a78f-d23be3490f5a",
   "metadata": {},
   "outputs": [],
   "source": [
    "edge_trace = []\n",
    "for edge in graph.edges(data=True):\n",
    "    char_1 = edge[0]\n",
    "    char_2 = edge[1]\n",
    "\n",
    "    x0, y0 = node_positions[char_1]\n",
    "    x1, y1 = node_positions[char_2]\n",
    "\n",
    "    trace  = go.Scatter(x = [x0, x1, None],\n",
    "                        y = [y0, y1, None],\n",
    "                        line = dict(color = f'rgba(0, 0, 255, 1)'),\n",
    "                        hoverinfo = 'text',\n",
    "                        text = ([char_1 + '--' + char_2 + ': ' + '1']),\n",
    "                        mode = 'lines')\n",
    "    \n",
    "    edge_trace.append(trace)"
   ]
  },
  {
   "cell_type": "markdown",
   "id": "c0d6b13f-bff2-4cce-b033-945096259f0d",
   "metadata": {},
   "source": [
    "And now the nodes. These will all be added to a single scatterplot"
   ]
  },
  {
   "cell_type": "code",
   "execution_count": 52,
   "id": "943315ac-d2e7-42c2-8506-44686ede8077",
   "metadata": {},
   "outputs": [
    {
     "ename": "KeyboardInterrupt",
     "evalue": "",
     "output_type": "error",
     "traceback": [
      "\u001b[0;31m---------------------------------------------------------------------------\u001b[0m",
      "\u001b[0;31mKeyboardInterrupt\u001b[0m                         Traceback (most recent call last)",
      "\u001b[0;32m/tmp/ipykernel_4774/2758961196.py\u001b[0m in \u001b[0;36m<module>\u001b[0;34m\u001b[0m\n\u001b[1;32m     22\u001b[0m         \u001b[0mnode_trace\u001b[0m\u001b[0;34m[\u001b[0m\u001b[0;34m'marker'\u001b[0m\u001b[0;34m]\u001b[0m\u001b[0;34m[\u001b[0m\u001b[0;34m'size'\u001b[0m\u001b[0;34m]\u001b[0m \u001b[0;34m+=\u001b[0m \u001b[0mtuple\u001b[0m\u001b[0;34m(\u001b[0m\u001b[0;34m[\u001b[0m\u001b[0;36m40\u001b[0m\u001b[0;34m]\u001b[0m\u001b[0;34m)\u001b[0m\u001b[0;34m\u001b[0m\u001b[0;34m\u001b[0m\u001b[0m\n\u001b[1;32m     23\u001b[0m     \u001b[0;32melse\u001b[0m\u001b[0;34m:\u001b[0m\u001b[0;34m\u001b[0m\u001b[0;34m\u001b[0m\u001b[0m\n\u001b[0;32m---> 24\u001b[0;31m         \u001b[0mnode_trace\u001b[0m\u001b[0;34m[\u001b[0m\u001b[0;34m'marker'\u001b[0m\u001b[0;34m]\u001b[0m\u001b[0;34m[\u001b[0m\u001b[0;34m'color'\u001b[0m\u001b[0;34m]\u001b[0m \u001b[0;34m+=\u001b[0m \u001b[0mtuple\u001b[0m\u001b[0;34m(\u001b[0m\u001b[0;34m[\u001b[0m\u001b[0;34m'white'\u001b[0m\u001b[0;34m]\u001b[0m\u001b[0;34m)\u001b[0m\u001b[0;34m\u001b[0m\u001b[0;34m\u001b[0m\u001b[0m\n\u001b[0m\u001b[1;32m     25\u001b[0m         node_trace['marker']['size'] += tuple([\n\u001b[1;32m     26\u001b[0m             \u001b[0;36m40\u001b[0m \u001b[0;34m/\u001b[0m \u001b[0;34m(\u001b[0m\u001b[0mpaths\u001b[0m\u001b[0;34m[\u001b[0m\u001b[0mnode\u001b[0m\u001b[0;34m]\u001b[0m \u001b[0;32mif\u001b[0m \u001b[0mpaths\u001b[0m\u001b[0;34m[\u001b[0m\u001b[0mnode\u001b[0m\u001b[0;34m]\u001b[0m \u001b[0;32mis\u001b[0m \u001b[0;32mnot\u001b[0m \u001b[0;36m0\u001b[0m \u001b[0;32melse\u001b[0m \u001b[0;36m1\u001b[0m\u001b[0;34m)\u001b[0m\u001b[0;34m\u001b[0m\u001b[0;34m\u001b[0m\u001b[0m\n",
      "\u001b[0;32m/opt/conda/lib/python3.7/site-packages/plotly/basedatatypes.py\u001b[0m in \u001b[0;36m__setitem__\u001b[0;34m(self, prop, value)\u001b[0m\n\u001b[1;32m   4817\u001b[0m                 \u001b[0;31m# ### Handle simple property ###\u001b[0m\u001b[0;34m\u001b[0m\u001b[0;34m\u001b[0m\u001b[0;34m\u001b[0m\u001b[0m\n\u001b[1;32m   4818\u001b[0m                 \u001b[0;32melse\u001b[0m\u001b[0;34m:\u001b[0m\u001b[0;34m\u001b[0m\u001b[0;34m\u001b[0m\u001b[0m\n\u001b[0;32m-> 4819\u001b[0;31m                     \u001b[0mself\u001b[0m\u001b[0;34m.\u001b[0m\u001b[0m_set_prop\u001b[0m\u001b[0;34m(\u001b[0m\u001b[0mprop\u001b[0m\u001b[0;34m,\u001b[0m \u001b[0mvalue\u001b[0m\u001b[0;34m)\u001b[0m\u001b[0;34m\u001b[0m\u001b[0;34m\u001b[0m\u001b[0m\n\u001b[0m\u001b[1;32m   4820\u001b[0m             \u001b[0;32melse\u001b[0m\u001b[0;34m:\u001b[0m\u001b[0;34m\u001b[0m\u001b[0;34m\u001b[0m\u001b[0m\n\u001b[1;32m   4821\u001b[0m                 \u001b[0;31m# Make sure properties dict is initialized\u001b[0m\u001b[0;34m\u001b[0m\u001b[0;34m\u001b[0m\u001b[0;34m\u001b[0m\u001b[0m\n",
      "\u001b[0;32m/opt/conda/lib/python3.7/site-packages/plotly/basedatatypes.py\u001b[0m in \u001b[0;36m_set_prop\u001b[0;34m(self, prop, val)\u001b[0m\n\u001b[1;32m   5156\u001b[0m \u001b[0;34m\u001b[0m\u001b[0m\n\u001b[1;32m   5157\u001b[0m         \u001b[0;32mtry\u001b[0m\u001b[0;34m:\u001b[0m\u001b[0;34m\u001b[0m\u001b[0;34m\u001b[0m\u001b[0m\n\u001b[0;32m-> 5158\u001b[0;31m             \u001b[0mval\u001b[0m \u001b[0;34m=\u001b[0m \u001b[0mvalidator\u001b[0m\u001b[0;34m.\u001b[0m\u001b[0mvalidate_coerce\u001b[0m\u001b[0;34m(\u001b[0m\u001b[0mval\u001b[0m\u001b[0;34m)\u001b[0m\u001b[0;34m\u001b[0m\u001b[0;34m\u001b[0m\u001b[0m\n\u001b[0m\u001b[1;32m   5159\u001b[0m         \u001b[0;32mexcept\u001b[0m \u001b[0mValueError\u001b[0m \u001b[0;32mas\u001b[0m \u001b[0merr\u001b[0m\u001b[0;34m:\u001b[0m\u001b[0;34m\u001b[0m\u001b[0;34m\u001b[0m\u001b[0m\n\u001b[1;32m   5160\u001b[0m             \u001b[0;32mif\u001b[0m \u001b[0mself\u001b[0m\u001b[0;34m.\u001b[0m\u001b[0m_skip_invalid\u001b[0m\u001b[0;34m:\u001b[0m\u001b[0;34m\u001b[0m\u001b[0;34m\u001b[0m\u001b[0m\n",
      "\u001b[0;32m/opt/conda/lib/python3.7/site-packages/_plotly_utils/basevalidators.py\u001b[0m in \u001b[0;36mvalidate_coerce\u001b[0;34m(self, v, should_raise)\u001b[0m\n\u001b[1;32m   1368\u001b[0m                     \u001b[0mv\u001b[0m \u001b[0;34m=\u001b[0m \u001b[0mcopy_to_readonly_numpy_array\u001b[0m\u001b[0;34m(\u001b[0m\u001b[0mvalidated_v\u001b[0m\u001b[0;34m,\u001b[0m \u001b[0mkind\u001b[0m\u001b[0;34m=\u001b[0m\u001b[0;34m\"U\"\u001b[0m\u001b[0;34m)\u001b[0m\u001b[0;34m\u001b[0m\u001b[0;34m\u001b[0m\u001b[0m\n\u001b[1;32m   1369\u001b[0m         \u001b[0;32melif\u001b[0m \u001b[0mself\u001b[0m\u001b[0;34m.\u001b[0m\u001b[0marray_ok\u001b[0m \u001b[0;32mand\u001b[0m \u001b[0mis_simple_array\u001b[0m\u001b[0;34m(\u001b[0m\u001b[0mv\u001b[0m\u001b[0;34m)\u001b[0m\u001b[0;34m:\u001b[0m\u001b[0;34m\u001b[0m\u001b[0;34m\u001b[0m\u001b[0m\n\u001b[0;32m-> 1370\u001b[0;31m             \u001b[0mvalidated_v\u001b[0m \u001b[0;34m=\u001b[0m \u001b[0;34m[\u001b[0m\u001b[0mself\u001b[0m\u001b[0;34m.\u001b[0m\u001b[0mvalidate_coerce\u001b[0m\u001b[0;34m(\u001b[0m\u001b[0me\u001b[0m\u001b[0;34m,\u001b[0m \u001b[0mshould_raise\u001b[0m\u001b[0;34m=\u001b[0m\u001b[0;32mFalse\u001b[0m\u001b[0;34m)\u001b[0m \u001b[0;32mfor\u001b[0m \u001b[0me\u001b[0m \u001b[0;32min\u001b[0m \u001b[0mv\u001b[0m\u001b[0;34m]\u001b[0m\u001b[0;34m\u001b[0m\u001b[0;34m\u001b[0m\u001b[0m\n\u001b[0m\u001b[1;32m   1371\u001b[0m \u001b[0;34m\u001b[0m\u001b[0m\n\u001b[1;32m   1372\u001b[0m             \u001b[0minvalid_els\u001b[0m \u001b[0;34m=\u001b[0m \u001b[0mself\u001b[0m\u001b[0;34m.\u001b[0m\u001b[0mfind_invalid_els\u001b[0m\u001b[0;34m(\u001b[0m\u001b[0mv\u001b[0m\u001b[0;34m,\u001b[0m \u001b[0mvalidated_v\u001b[0m\u001b[0;34m)\u001b[0m\u001b[0;34m\u001b[0m\u001b[0;34m\u001b[0m\u001b[0m\n",
      "\u001b[0;32m/opt/conda/lib/python3.7/site-packages/_plotly_utils/basevalidators.py\u001b[0m in \u001b[0;36m<listcomp>\u001b[0;34m(.0)\u001b[0m\n\u001b[1;32m   1368\u001b[0m                     \u001b[0mv\u001b[0m \u001b[0;34m=\u001b[0m \u001b[0mcopy_to_readonly_numpy_array\u001b[0m\u001b[0;34m(\u001b[0m\u001b[0mvalidated_v\u001b[0m\u001b[0;34m,\u001b[0m \u001b[0mkind\u001b[0m\u001b[0;34m=\u001b[0m\u001b[0;34m\"U\"\u001b[0m\u001b[0;34m)\u001b[0m\u001b[0;34m\u001b[0m\u001b[0;34m\u001b[0m\u001b[0m\n\u001b[1;32m   1369\u001b[0m         \u001b[0;32melif\u001b[0m \u001b[0mself\u001b[0m\u001b[0;34m.\u001b[0m\u001b[0marray_ok\u001b[0m \u001b[0;32mand\u001b[0m \u001b[0mis_simple_array\u001b[0m\u001b[0;34m(\u001b[0m\u001b[0mv\u001b[0m\u001b[0;34m)\u001b[0m\u001b[0;34m:\u001b[0m\u001b[0;34m\u001b[0m\u001b[0;34m\u001b[0m\u001b[0m\n\u001b[0;32m-> 1370\u001b[0;31m             \u001b[0mvalidated_v\u001b[0m \u001b[0;34m=\u001b[0m \u001b[0;34m[\u001b[0m\u001b[0mself\u001b[0m\u001b[0;34m.\u001b[0m\u001b[0mvalidate_coerce\u001b[0m\u001b[0;34m(\u001b[0m\u001b[0me\u001b[0m\u001b[0;34m,\u001b[0m \u001b[0mshould_raise\u001b[0m\u001b[0;34m=\u001b[0m\u001b[0;32mFalse\u001b[0m\u001b[0;34m)\u001b[0m \u001b[0;32mfor\u001b[0m \u001b[0me\u001b[0m \u001b[0;32min\u001b[0m \u001b[0mv\u001b[0m\u001b[0;34m]\u001b[0m\u001b[0;34m\u001b[0m\u001b[0;34m\u001b[0m\u001b[0m\n\u001b[0m\u001b[1;32m   1371\u001b[0m \u001b[0;34m\u001b[0m\u001b[0m\n\u001b[1;32m   1372\u001b[0m             \u001b[0minvalid_els\u001b[0m \u001b[0;34m=\u001b[0m \u001b[0mself\u001b[0m\u001b[0;34m.\u001b[0m\u001b[0mfind_invalid_els\u001b[0m\u001b[0;34m(\u001b[0m\u001b[0mv\u001b[0m\u001b[0;34m,\u001b[0m \u001b[0mvalidated_v\u001b[0m\u001b[0;34m)\u001b[0m\u001b[0;34m\u001b[0m\u001b[0;34m\u001b[0m\u001b[0m\n",
      "\u001b[0;32m/opt/conda/lib/python3.7/site-packages/_plotly_utils/basevalidators.py\u001b[0m in \u001b[0;36mvalidate_coerce\u001b[0;34m(self, v, should_raise)\u001b[0m\n\u001b[1;32m   1378\u001b[0m         \u001b[0;32melse\u001b[0m\u001b[0;34m:\u001b[0m\u001b[0;34m\u001b[0m\u001b[0;34m\u001b[0m\u001b[0m\n\u001b[1;32m   1379\u001b[0m             \u001b[0;31m# Validate scalar color\u001b[0m\u001b[0;34m\u001b[0m\u001b[0;34m\u001b[0m\u001b[0;34m\u001b[0m\u001b[0m\n\u001b[0;32m-> 1380\u001b[0;31m             \u001b[0mvalidated_v\u001b[0m \u001b[0;34m=\u001b[0m \u001b[0mself\u001b[0m\u001b[0;34m.\u001b[0m\u001b[0mvc_scalar\u001b[0m\u001b[0;34m(\u001b[0m\u001b[0mv\u001b[0m\u001b[0;34m)\u001b[0m\u001b[0;34m\u001b[0m\u001b[0;34m\u001b[0m\u001b[0m\n\u001b[0m\u001b[1;32m   1381\u001b[0m             \u001b[0;32mif\u001b[0m \u001b[0mvalidated_v\u001b[0m \u001b[0;32mis\u001b[0m \u001b[0;32mNone\u001b[0m \u001b[0;32mand\u001b[0m \u001b[0mshould_raise\u001b[0m\u001b[0;34m:\u001b[0m\u001b[0;34m\u001b[0m\u001b[0;34m\u001b[0m\u001b[0m\n\u001b[1;32m   1382\u001b[0m                 \u001b[0mself\u001b[0m\u001b[0;34m.\u001b[0m\u001b[0mraise_invalid_val\u001b[0m\u001b[0;34m(\u001b[0m\u001b[0mv\u001b[0m\u001b[0;34m)\u001b[0m\u001b[0;34m\u001b[0m\u001b[0;34m\u001b[0m\u001b[0m\n",
      "\u001b[0;32m/opt/conda/lib/python3.7/site-packages/_plotly_utils/basevalidators.py\u001b[0m in \u001b[0;36mvc_scalar\u001b[0;34m(self, v)\u001b[0m\n\u001b[1;32m   1409\u001b[0m         \u001b[0;34m\"\"\" Helper to validate/coerce a scalar color \"\"\"\u001b[0m\u001b[0;34m\u001b[0m\u001b[0;34m\u001b[0m\u001b[0m\n\u001b[1;32m   1410\u001b[0m         return ColorValidator.perform_validate_coerce(\n\u001b[0;32m-> 1411\u001b[0;31m             \u001b[0mv\u001b[0m\u001b[0;34m,\u001b[0m \u001b[0mallow_number\u001b[0m\u001b[0;34m=\u001b[0m\u001b[0mself\u001b[0m\u001b[0;34m.\u001b[0m\u001b[0mnumbers_allowed\u001b[0m\u001b[0;34m(\u001b[0m\u001b[0;34m)\u001b[0m\u001b[0;34m\u001b[0m\u001b[0;34m\u001b[0m\u001b[0m\n\u001b[0m\u001b[1;32m   1412\u001b[0m         )\n\u001b[1;32m   1413\u001b[0m \u001b[0;34m\u001b[0m\u001b[0m\n",
      "\u001b[0;32m/opt/conda/lib/python3.7/site-packages/_plotly_utils/basevalidators.py\u001b[0m in \u001b[0;36mperform_validate_coerce\u001b[0;34m(v, allow_number)\u001b[0m\n\u001b[1;32m   1445\u001b[0m                 \u001b[0;31m# valid hex color (e.g. #f34ab3)\u001b[0m\u001b[0;34m\u001b[0m\u001b[0;34m\u001b[0m\u001b[0;34m\u001b[0m\u001b[0m\n\u001b[1;32m   1446\u001b[0m                 \u001b[0;32mreturn\u001b[0m \u001b[0mv\u001b[0m\u001b[0;34m\u001b[0m\u001b[0;34m\u001b[0m\u001b[0m\n\u001b[0;32m-> 1447\u001b[0;31m             \u001b[0;32melif\u001b[0m \u001b[0mfullmatch\u001b[0m\u001b[0;34m(\u001b[0m\u001b[0mColorValidator\u001b[0m\u001b[0;34m.\u001b[0m\u001b[0mre_rgb_etc\u001b[0m\u001b[0;34m,\u001b[0m \u001b[0mv_normalized\u001b[0m\u001b[0;34m)\u001b[0m\u001b[0;34m:\u001b[0m\u001b[0;34m\u001b[0m\u001b[0;34m\u001b[0m\u001b[0m\n\u001b[0m\u001b[1;32m   1448\u001b[0m                 \u001b[0;31m# elif ColorValidator.re_rgb_etc.fullmatch(v_normalized):\u001b[0m\u001b[0;34m\u001b[0m\u001b[0;34m\u001b[0m\u001b[0;34m\u001b[0m\u001b[0m\n\u001b[1;32m   1449\u001b[0m                 \u001b[0;31m# Valid rgb(a), hsl(a), hsv(a) color\u001b[0m\u001b[0;34m\u001b[0m\u001b[0;34m\u001b[0m\u001b[0;34m\u001b[0m\u001b[0m\n",
      "\u001b[0;32m/opt/conda/lib/python3.7/site-packages/_plotly_utils/basevalidators.py\u001b[0m in \u001b[0;36mfullmatch\u001b[0;34m(regex, string, flags)\u001b[0m\n\u001b[1;32m     19\u001b[0m \u001b[0;32mdef\u001b[0m \u001b[0mfullmatch\u001b[0m\u001b[0;34m(\u001b[0m\u001b[0mregex\u001b[0m\u001b[0;34m,\u001b[0m \u001b[0mstring\u001b[0m\u001b[0;34m,\u001b[0m \u001b[0mflags\u001b[0m\u001b[0;34m=\u001b[0m\u001b[0;36m0\u001b[0m\u001b[0;34m)\u001b[0m\u001b[0;34m:\u001b[0m\u001b[0;34m\u001b[0m\u001b[0;34m\u001b[0m\u001b[0m\n\u001b[1;32m     20\u001b[0m     \u001b[0;34m\"\"\"Emulate python-3.4 re.fullmatch().\"\"\"\u001b[0m\u001b[0;34m\u001b[0m\u001b[0;34m\u001b[0m\u001b[0m\n\u001b[0;32m---> 21\u001b[0;31m     \u001b[0;32mif\u001b[0m \u001b[0;34m\"pattern\"\u001b[0m \u001b[0;32min\u001b[0m \u001b[0mdir\u001b[0m\u001b[0;34m(\u001b[0m\u001b[0mregex\u001b[0m\u001b[0;34m)\u001b[0m\u001b[0;34m:\u001b[0m\u001b[0;34m\u001b[0m\u001b[0;34m\u001b[0m\u001b[0m\n\u001b[0m\u001b[1;32m     22\u001b[0m         \u001b[0mregex_string\u001b[0m \u001b[0;34m=\u001b[0m \u001b[0mregex\u001b[0m\u001b[0;34m.\u001b[0m\u001b[0mpattern\u001b[0m\u001b[0;34m\u001b[0m\u001b[0;34m\u001b[0m\u001b[0m\n\u001b[1;32m     23\u001b[0m     \u001b[0;32melse\u001b[0m\u001b[0;34m:\u001b[0m\u001b[0;34m\u001b[0m\u001b[0;34m\u001b[0m\u001b[0m\n",
      "\u001b[0;31mKeyboardInterrupt\u001b[0m: "
     ]
    }
   ],
   "source": [
    "node_trace = go.Scatter(x = [],\n",
    "                        y = [],\n",
    "                        text = [],\n",
    "                        textposition = \"top center\",\n",
    "                        textfont_size = 10,\n",
    "                        mode = 'markers+text',\n",
    "                        hoverinfo = 'none',\n",
    "                        marker = dict(color = [],\n",
    "                                      size  = [],\n",
    "                                      line  = None),\n",
    "                        textfont = dict(family= \"sans serif\",\n",
    "                                        size  = 18,\n",
    "                                        color = \"Black\")\n",
    "                       )\n",
    "\n",
    "for node in graph.nodes():\n",
    "    x, y = node_positions[node]\n",
    "    node_trace['x'] += tuple([x])\n",
    "    node_trace['y'] += tuple([y])\n",
    "    if node == 'Lana Del Rey':\n",
    "        node_trace['marker']['color'] += tuple(['red'])\n",
    "        node_trace['marker']['size'] += tuple([40])\n",
    "    else:\n",
    "        node_trace['marker']['color'] += tuple(['white'])\n",
    "        node_trace['marker']['size'] += tuple([\n",
    "            40 / (paths[node] if paths[node] is not 0 else 1)\n",
    "        ])\n",
    "    node_trace['text'] += tuple(['<b>' + node + '</b>'])"
   ]
  },
  {
   "cell_type": "markdown",
   "id": "7cb8a2c5-e150-49dd-a5d1-8d079c441605",
   "metadata": {},
   "source": [
    "Finally, we can combine the edges and the nodes into a single figure and save it. I'm saving to an HTML because plotly has some built-in HTML functionality that allow for zoom. \n",
    "\n",
    "With 10,000+ nodes, we'll need zoom ;)"
   ]
  },
  {
   "cell_type": "code",
   "execution_count": null,
   "id": "96a724df-b674-4b55-bcd6-748ec6af22bf",
   "metadata": {},
   "outputs": [],
   "source": [
    "layout = go.Layout(\n",
    "    paper_bgcolor='rgba(73,73,73,1)',\n",
    "    plot_bgcolor='rgba(0,100,0,0)',\n",
    "    height=1080,\n",
    "    width=1080\n",
    ")\n",
    "fig = go.Figure(layout = layout)\n",
    "\n",
    "for trace in edge_trace:\n",
    "    fig.add_trace(trace)\n",
    "\n",
    "fig.add_trace(node_trace)\n",
    "\n",
    "fig.update_layout(showlegend = False)\n",
    "fig.update_xaxes(showticklabels = False, showgrid=False, zeroline=False)\n",
    "fig.update_yaxes(showticklabels = False, showgrid=False, zeroline=False)\n",
    "\n",
    "#fig.show()\n",
    "py.plot(fig, filename='lana_test.html')"
   ]
  },
  {
   "cell_type": "code",
   "execution_count": null,
   "id": "fcab0614-6e31-4bc6-8713-211a3e742b91",
   "metadata": {},
   "outputs": [],
   "source": []
  }
 ],
 "metadata": {
  "environment": {
   "name": "tf2-gpu.2-6.m81",
   "type": "gcloud",
   "uri": "gcr.io/deeplearning-platform-release/tf2-gpu.2-6:m81"
  },
  "kernelspec": {
   "display_name": "Python 3",
   "language": "python",
   "name": "python3"
  },
  "language_info": {
   "codemirror_mode": {
    "name": "ipython",
    "version": 3
   },
   "file_extension": ".py",
   "mimetype": "text/x-python",
   "name": "python",
   "nbconvert_exporter": "python",
   "pygments_lexer": "ipython3",
   "version": "3.7.10"
  }
 },
 "nbformat": 4,
 "nbformat_minor": 5
}
